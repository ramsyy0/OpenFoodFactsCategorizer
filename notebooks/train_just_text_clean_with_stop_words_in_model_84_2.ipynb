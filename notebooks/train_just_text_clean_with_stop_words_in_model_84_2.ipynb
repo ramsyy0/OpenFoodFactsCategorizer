{
 "cells": [
  {
   "cell_type": "code",
   "execution_count": 10,
   "id": "vietnamese-provider",
   "metadata": {
    "id": "vietnamese-provider"
   },
   "outputs": [],
   "source": [
    "import joblib\n",
    "import pandas as pd\n",
    "import numpy as np\n",
    "import string\n",
    "import unicodedata\n",
    "from sklearn.model_selection import train_test_split\n",
    "import nltk\n",
    "from nltk.corpus import stopwords \n",
    "from nltk import word_tokenize\n",
    "from sklearn.feature_extraction.text import CountVectorizer, TfidfVectorizer\n",
    "from sklearn.linear_model import RidgeClassifier\n",
    "from sklearn.metrics import classification_report\n",
    "from sklearn.metrics import accuracy_score, confusion_matrix\n",
    "from sklearn.pipeline import Pipeline\n",
    "from joblib import dump, load\n",
    "import pickle"
   ]
  },
  {
   "cell_type": "code",
   "execution_count": 2,
   "id": "ZqLOd4ZtYVCy",
   "metadata": {
    "colab": {
     "base_uri": "https://localhost:8080/"
    },
    "id": "ZqLOd4ZtYVCy",
    "outputId": "c2fe3e1e-07a1-4500-8806-a392f995a224"
   },
   "outputs": [
    {
     "name": "stdout",
     "output_type": "stream",
     "text": [
      "Mounted at /content/drive\n"
     ]
    }
   ],
   "source": [
    "from google.colab import drive\n",
    "drive.mount('/content/drive', force_remount=True)"
   ]
  },
  {
   "cell_type": "code",
   "execution_count": 3,
   "id": "beautiful-difficulty",
   "metadata": {
    "id": "beautiful-difficulty"
   },
   "outputs": [],
   "source": [
    "# upload CSV with OCR text just cleaned (accents, commas, integers, spaces...)\n",
    "file = '/content/drive/MyDrive/OFF_Drive/raw_data/ocr_labeled.csv'\n",
    "data = pd.read_csv(file)\n"
   ]
  },
  {
   "cell_type": "code",
   "execution_count": 4,
   "id": "communist-binding",
   "metadata": {
    "id": "communist-binding"
   },
   "outputs": [],
   "source": [
    "data = data.copy()"
   ]
  },
  {
   "cell_type": "code",
   "execution_count": 5,
   "id": "alive-arkansas",
   "metadata": {
    "colab": {
     "base_uri": "https://localhost:8080/"
    },
    "id": "alive-arkansas",
    "outputId": "85d435cd-7377-44ec-848e-04b882dab322"
   },
   "outputs": [
    {
     "data": {
      "text/plain": [
       "(434896, 6)"
      ]
     },
     "execution_count": 5,
     "metadata": {
      "tags": []
     },
     "output_type": "execute_result"
    }
   ],
   "source": [
    "data.shape"
   ]
  },
  {
   "cell_type": "code",
   "execution_count": 6,
   "id": "L7QaZUj9a74E",
   "metadata": {
    "colab": {
     "base_uri": "https://localhost:8080/",
     "height": 206
    },
    "id": "L7QaZUj9a74E",
    "outputId": "b8473cab-05cd-4fa6-e091-12b5a9a0c911"
   },
   "outputs": [
    {
     "data": {
      "text/html": [
       "<div>\n",
       "<style scoped>\n",
       "    .dataframe tbody tr th:only-of-type {\n",
       "        vertical-align: middle;\n",
       "    }\n",
       "\n",
       "    .dataframe tbody tr th {\n",
       "        vertical-align: top;\n",
       "    }\n",
       "\n",
       "    .dataframe thead th {\n",
       "        text-align: right;\n",
       "    }\n",
       "</style>\n",
       "<table border=\"1\" class=\"dataframe\">\n",
       "  <thead>\n",
       "    <tr style=\"text-align: right;\">\n",
       "      <th></th>\n",
       "      <th>barcode</th>\n",
       "      <th>clean_text</th>\n",
       "      <th>fr_text</th>\n",
       "      <th>source</th>\n",
       "      <th>pnns_groups_1</th>\n",
       "      <th>pnns_groups_2</th>\n",
       "    </tr>\n",
       "  </thead>\n",
       "  <tbody>\n",
       "    <tr>\n",
       "      <th>0</th>\n",
       "      <td>3199660476748</td>\n",
       "      <td>ne eleve abattu en bretagne les eleveurs de br...</td>\n",
       "      <td>NE\\nELEVE\\nABATTU\\nEN BRETAGNE\\nLES ÉLEVEURS\\n...</td>\n",
       "      <td>/319/966/047/6748/1.json</td>\n",
       "      <td>fish meat eggs</td>\n",
       "      <td>meat</td>\n",
       "    </tr>\n",
       "    <tr>\n",
       "      <th>1</th>\n",
       "      <td>3199660219192</td>\n",
       "      <td>ker chant  local decoupes de poulet conditionn...</td>\n",
       "      <td>Ker\\nchant\\n100% LOCAL\\nDecoupes de\\nPOULET\\nC...</td>\n",
       "      <td>/319/966/021/9192/1.json</td>\n",
       "      <td>fish meat eggs</td>\n",
       "      <td>meat</td>\n",
       "    </tr>\n",
       "    <tr>\n",
       "      <th>2</th>\n",
       "      <td>3199660219192</td>\n",
       "      <td>cuisdej plt sat kerchant fx  origine france vo...</td>\n",
       "      <td>1CUIS.DEJ. PLT SAT\\nKERCHANT FX 1\\nORIGINE Fra...</td>\n",
       "      <td>/319/966/021/9192/2.json</td>\n",
       "      <td>fish meat eggs</td>\n",
       "      <td>meat</td>\n",
       "    </tr>\n",
       "    <tr>\n",
       "      <th>3</th>\n",
       "      <td>3199660747848</td>\n",
       "      <td>ker chant  logal decoupes de poulet cooduogne ...</td>\n",
       "      <td>Ker\\nChant\\n100% LOGAL\\nDécoupes de\\nPOULET\\nC...</td>\n",
       "      <td>/319/966/074/7848/1.json</td>\n",
       "      <td>fish meat eggs</td>\n",
       "      <td>meat</td>\n",
       "    </tr>\n",
       "    <tr>\n",
       "      <th>4</th>\n",
       "      <td>3196203800091</td>\n",
       "      <td>preparation deshydratee aromatisee et coloree ...</td>\n",
       "      <td>PREPARATION DÉSHYDRATÉE, AROMATISÉE ET COLOREE...</td>\n",
       "      <td>/319/620/380/0091/1.json</td>\n",
       "      <td>sugary snacks</td>\n",
       "      <td>sweets</td>\n",
       "    </tr>\n",
       "  </tbody>\n",
       "</table>\n",
       "</div>"
      ],
      "text/plain": [
       "         barcode  ... pnns_groups_2\n",
       "0  3199660476748  ...          meat\n",
       "1  3199660219192  ...          meat\n",
       "2  3199660219192  ...          meat\n",
       "3  3199660747848  ...          meat\n",
       "4  3196203800091  ...        sweets\n",
       "\n",
       "[5 rows x 6 columns]"
      ]
     },
     "execution_count": 6,
     "metadata": {
      "tags": []
     },
     "output_type": "execute_result"
    }
   ],
   "source": [
    "data.head()"
   ]
  },
  {
   "cell_type": "code",
   "execution_count": 7,
   "id": "focused-genealogy",
   "metadata": {
    "id": "focused-genealogy"
   },
   "outputs": [],
   "source": [
    "# Give a number to each catégories (for classification report)\n",
    "category_codes_pnns_2 = {n: i for i, n in enumerate(sorted(data['pnns_groups_2'].unique()))}\n"
   ]
  },
  {
   "cell_type": "code",
   "execution_count": 8,
   "id": "robust-burden",
   "metadata": {
    "id": "robust-burden"
   },
   "outputs": [],
   "source": [
    "# Holdout\n",
    "X = data[['clean_text']]\n",
    "\n",
    "y = data['pnns_groups_2']\n",
    "\n",
    "X_train, X_test, y_train, y_test = train_test_split(X, y, test_size=0.3, random_state = 1)"
   ]
  },
  {
   "cell_type": "code",
   "execution_count": 11,
   "id": "wuZKRFO81gF-",
   "metadata": {
    "colab": {
     "base_uri": "https://localhost:8080/"
    },
    "id": "wuZKRFO81gF-",
    "outputId": "79d9d857-e1d6-45cb-e059-307b8314ffd3"
   },
   "outputs": [
    {
     "name": "stdout",
     "output_type": "stream",
     "text": [
      "[nltk_data] Downloading package stopwords to /root/nltk_data...\n",
      "[nltk_data]   Unzipping corpora/stopwords.zip.\n",
      "Test accuracy is 0.8421694042262913\n",
      "                                  precision    recall  f1-score   support\n",
      "\n",
      "                      appetizers       0.87      0.80      0.83      3575\n",
      "artificially sweetened beverages       0.78      0.59      0.67       615\n",
      "              biscuits and cakes       0.86      0.91      0.88     11401\n",
      "                           bread       0.90      0.84      0.87      3311\n",
      "               breakfast cereals       0.90      0.89      0.90      2149\n",
      "                         cereals       0.83      0.82      0.83      5257\n",
      "                          cheese       0.89      0.89      0.89      5937\n",
      "              chocolate products       0.90      0.90      0.90      2554\n",
      "                  dairy desserts       0.87      0.76      0.81      2943\n",
      "            dressings and sauces       0.86      0.82      0.84      5200\n",
      "                    dried fruits       0.85      0.78      0.81      1451\n",
      "                            eggs       0.96      0.93      0.94       768\n",
      "                            fats       0.91      0.87      0.89      3011\n",
      "                fish and seafood       0.89      0.85      0.87      5596\n",
      "                    fruit juices       0.79      0.86      0.82      2963\n",
      "                   fruit nectars       0.77      0.36      0.49       344\n",
      "                          fruits       0.88      0.84      0.86      3905\n",
      "                       ice cream       0.91      0.86      0.89      1815\n",
      "                         legumes       0.78      0.62      0.69      1171\n",
      "                            meat       0.85      0.74      0.79      2927\n",
      "                 milk and yogurt       0.86      0.89      0.87      5736\n",
      "                            nuts       0.85      0.78      0.81      1439\n",
      "                          offals       0.93      0.79      0.85       500\n",
      "                  one dish meals       0.74      0.87      0.80     15355\n",
      "                        pastries       0.92      0.80      0.86      1623\n",
      "           pizza pies and quiche       0.92      0.76      0.84      1608\n",
      "    plant based milk substitutes       0.91      0.81      0.86       523\n",
      "                        potatoes       0.93      0.71      0.81       916\n",
      "                  processed meat       0.82      0.90      0.86      7043\n",
      "        salty and fatty products       0.88      0.81      0.84      4903\n",
      "                      sandwiches       0.94      0.81      0.87      1382\n",
      "                           soups       0.82      0.76      0.79       893\n",
      "             sweetened beverages       0.75      0.85      0.79      3744\n",
      "                          sweets       0.85      0.89      0.87      9540\n",
      "teas and herbal teas and coffees       0.94      0.52      0.67       130\n",
      "           unsweetened beverages       0.81      0.38      0.52      1225\n",
      "                      vegetables       0.82      0.79      0.80      6123\n",
      "      waters and flavored waters       0.90      0.91      0.90       893\n",
      "\n",
      "                        accuracy                           0.84    130469\n",
      "                       macro avg       0.86      0.79      0.82    130469\n",
      "                    weighted avg       0.85      0.84      0.84    130469\n",
      "\n"
     ]
    }
   ],
   "source": [
    "# Pipeline with french stop_words nltk in tfidf\n",
    "nltk.download('stopwords')\n",
    "stop_words = set(stopwords.words('french'))\n",
    "ridge_pipeline = Pipeline([\n",
    "                ('tfidf', TfidfVectorizer(stop_words=stop_words, ngram_range=(1, 2))),\n",
    "                ('Ridge', RidgeClassifier()),\n",
    "            ])\n",
    "# train the model using X_dtm & y\n",
    "ridge_pipeline.fit(X_train.squeeze(), y_train)\n",
    "# Squeeze is to get the correct shape for X (if none I have a 1 column after my rows)\n",
    "# compute the testing accuracy\n",
    "prediction = ridge_pipeline.predict(X_test.squeeze())\n",
    "print('Test accuracy is {}'.format(accuracy_score(y_test, prediction)))\n",
    "print(classification_report(y_test, prediction, target_names=category_codes_pnns_2))"
   ]
  },
  {
   "cell_type": "code",
   "execution_count": 13,
   "id": "exact-necessity",
   "metadata": {
    "colab": {
     "base_uri": "https://localhost:8080/"
    },
    "id": "exact-necessity",
    "outputId": "1041628e-7861-4d8c-f330-00bf8beabd23"
   },
   "outputs": [
    {
     "data": {
      "text/plain": [
       "0.8348438188398033"
      ]
     },
     "execution_count": 13,
     "metadata": {
      "tags": []
     },
     "output_type": "execute_result"
    }
   ],
   "source": [
    "# cross_validation\n",
    "from sklearn.model_selection import cross_validate\n",
    "\n",
    "# 5-Fold Cross validate model\n",
    "cv_results = cross_validate(ridge_pipeline, X_train.squeeze(), y_train, cv=5)\n",
    "\n",
    "# Scores\n",
    "cv_results['test_score']\n",
    "\n",
    "# Mean of scores\n",
    "cv_score = cv_results['test_score'].mean()\n",
    "\n",
    "cv_score"
   ]
  },
  {
   "cell_type": "code",
   "execution_count": 14,
   "id": "sfK8Tx_bjFNx",
   "metadata": {
    "colab": {
     "base_uri": "https://localhost:8080/"
    },
    "id": "sfK8Tx_bjFNx",
    "outputId": "c8b0df26-fda6-4310-affc-0b3471392e03"
   },
   "outputs": [
    {
     "data": {
      "text/plain": [
       "array([0.83455967, 0.83589002, 0.83503326, 0.83491829, 0.83381785])"
      ]
     },
     "execution_count": 14,
     "metadata": {
      "tags": []
     },
     "output_type": "execute_result"
    }
   ],
   "source": [
    "# all the scores\n",
    "cv_results['test_score']\n",
    "\n"
   ]
  },
  {
   "cell_type": "code",
   "execution_count": 15,
   "id": "Pmi4jK7tslso",
   "metadata": {
    "id": "Pmi4jK7tslso"
   },
   "outputs": [],
   "source": [
    "model = ridge_pipeline.fit(X_train.squeeze(), y_train)"
   ]
  },
  {
   "cell_type": "code",
   "execution_count": 16,
   "id": "P1r1hL3Jby6C",
   "metadata": {
    "colab": {
     "base_uri": "https://localhost:8080/"
    },
    "id": "P1r1hL3Jby6C",
    "outputId": "a2395fb4-3eb2-46a5-f2b3-99e5c4dcb1a3"
   },
   "outputs": [
    {
     "data": {
      "text/plain": [
       "['/content/drive/My Drive/OFF_Drive/raw_data/models/no_preprocess_ridge_model_pnns_2.joblib']"
      ]
     },
     "execution_count": 16,
     "metadata": {
      "tags": []
     },
     "output_type": "execute_result"
    }
   ],
   "source": [
    "# Export fited model joblib format\n",
    "joblib.dump(model, '/content/drive/My Drive/OFF_Drive/raw_data/models/no_preprocess_ridge_model_pnns_2.joblib') "
   ]
  },
  {
   "cell_type": "code",
   "execution_count": null,
   "id": "brave-collaboration",
   "metadata": {},
   "outputs": [],
   "source": [
    "#to load jobil model\n",
    "#loaded_model = joblib.load('/content/drive/My Drive/OFF_Drive/raw_data/models/ridge_only_pnns_2.joblib')\n",
    "#result = loaded_model.score(X_test.squeeze(), y_test)\n",
    "#loaded_model.predict([['clean_text'][0]])"
   ]
  },
  {
   "cell_type": "code",
   "execution_count": 17,
   "id": "british-grammar",
   "metadata": {
    "id": "british-grammar"
   },
   "outputs": [],
   "source": [
    "# Export fited model pikl format\n",
    "pkl_filename = '/content/drive/My Drive/OFF_Drive/raw_data/models/no_preprocess_ridge_model_pnns_2.pkl'\n",
    "with open(pkl_filename, 'wb') as file:\n",
    "    pickle.dump(model, file)\n",
    "\n",
    "# Load from file\n",
    "#with open(pkl_filename, 'rb') as file:\n",
    "    #pickle_model = pickle.load(file)\n",
    "    \n",
    "# Calculate the accuracy score and predict target values\n",
    "#score = pickle_model.score(Xtest, Ytest)\n",
    "#print(\"Test score: {0:.2f} %\".format(100 * score))\n",
    "#Ypredict = pickle_model.predict(Xtest)"
   ]
  }
 ],
 "metadata": {
  "colab": {
   "collapsed_sections": [],
   "name": "Train_with_no_preprocess.ipynb",
   "provenance": []
  },
  "kernelspec": {
   "display_name": "Python 3",
   "language": "python",
   "name": "python3"
  },
  "language_info": {
   "codemirror_mode": {
    "name": "ipython",
    "version": 3
   },
   "file_extension": ".py",
   "mimetype": "text/x-python",
   "name": "python",
   "nbconvert_exporter": "python",
   "pygments_lexer": "ipython3",
   "version": "3.8.6"
  },
  "latex_envs": {
   "LaTeX_envs_menu_present": true,
   "autoclose": false,
   "autocomplete": true,
   "bibliofile": "biblio.bib",
   "cite_by": "apalike",
   "current_citInitial": 1,
   "eqLabelWithNumbers": true,
   "eqNumInitial": 1,
   "hotkeys": {
    "equation": "Ctrl-E",
    "itemize": "Ctrl-I"
   },
   "labels_anchors": false,
   "latex_user_defs": false,
   "report_style_numbering": false,
   "user_envs_cfg": false
  },
  "toc": {
   "base_numbering": 1,
   "nav_menu": {},
   "number_sections": true,
   "sideBar": true,
   "skip_h1_title": false,
   "title_cell": "Table of Contents",
   "title_sidebar": "Contents",
   "toc_cell": false,
   "toc_position": {},
   "toc_section_display": true,
   "toc_window_display": false
  },
  "varInspector": {
   "cols": {
    "lenName": 16,
    "lenType": 16,
    "lenVar": 40
   },
   "kernels_config": {
    "python": {
     "delete_cmd_postfix": "",
     "delete_cmd_prefix": "del ",
     "library": "var_list.py",
     "varRefreshCmd": "print(var_dic_list())"
    },
    "r": {
     "delete_cmd_postfix": ") ",
     "delete_cmd_prefix": "rm(",
     "library": "var_list.r",
     "varRefreshCmd": "cat(var_dic_list()) "
    }
   },
   "types_to_exclude": [
    "module",
    "function",
    "builtin_function_or_method",
    "instance",
    "_Feature"
   ],
   "window_display": false
  }
 },
 "nbformat": 4,
 "nbformat_minor": 5
}
