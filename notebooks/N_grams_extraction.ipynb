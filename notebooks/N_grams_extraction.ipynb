{
 "cells": [
  {
   "cell_type": "code",
   "execution_count": 1,
   "id": "restricted-mentor",
   "metadata": {
    "ExecuteTime": {
     "end_time": "2021-03-29T15:59:03.763235Z",
     "start_time": "2021-03-29T15:59:01.767787Z"
    }
   },
   "outputs": [],
   "source": [
    "# Linear algebra\n",
    "import pandas as pd\n",
    "import numpy as np\n",
    "\n",
    "# Data visualization\n",
    "import matplotlib.pyplot as plt\n",
    "import seaborn as sns\n",
    "\n",
    "# NLP\n",
    "import nltk\n",
    "\n",
    "from tqdm import tqdm"
   ]
  },
  {
   "cell_type": "code",
   "execution_count": 2,
   "id": "civil-driving",
   "metadata": {
    "ExecuteTime": {
     "end_time": "2021-03-29T15:59:24.226251Z",
     "start_time": "2021-03-29T15:59:24.223431Z"
    }
   },
   "outputs": [],
   "source": [
    "ADDITIONAL_STOPWORDS = ['covfefe']"
   ]
  },
  {
   "cell_type": "markdown",
   "id": "necessary-representation",
   "metadata": {},
   "source": [
    "# N-grams extraction"
   ]
  },
  {
   "cell_type": "markdown",
   "id": "understood-telephone",
   "metadata": {},
   "source": [
    "## Load Data"
   ]
  },
  {
   "cell_type": "code",
   "execution_count": 3,
   "id": "usual-database",
   "metadata": {
    "ExecuteTime": {
     "end_time": "2021-03-29T15:59:30.068077Z",
     "start_time": "2021-03-29T15:59:25.902823Z"
    }
   },
   "outputs": [],
   "source": [
    "# Load the whole clean dataset\n",
    "file ='../raw_data/ocr_labeled.csv'\n",
    "off_df_base = pd.read_csv(file)"
   ]
  },
  {
   "cell_type": "code",
   "execution_count": 4,
   "id": "official-turtle",
   "metadata": {
    "ExecuteTime": {
     "end_time": "2021-03-29T15:59:30.783722Z",
     "start_time": "2021-03-29T15:59:30.755068Z"
    }
   },
   "outputs": [],
   "source": [
    "# Deep copy of the dataframe to avoid to reload it\n",
    "df = off_df_base.copy()  # Renew the DataFrame"
   ]
  },
  {
   "cell_type": "code",
   "execution_count": 14,
   "id": "pressed-blogger",
   "metadata": {
    "ExecuteTime": {
     "end_time": "2021-03-29T13:06:40.993127Z",
     "start_time": "2021-03-29T13:06:40.988071Z"
    },
    "scrolled": false
   },
   "outputs": [],
   "source": [
    "# Output final\n",
    "    # Un pattern\n",
    "    # Type de pattern\n",
    "    # OCR dans lequel il est présent\n",
    "    # Catégorie\n",
    "    # Occurence dans chaque catégorie\n",
    "    # Occurence totale\n",
    "\n",
    "# Pour chaque OCR Clean\n",
    "    # Convertir en liste de mots\n",
    "    # Extraire les unigrams et leur occurences"
   ]
  },
  {
   "cell_type": "markdown",
   "id": "blank-omaha",
   "metadata": {},
   "source": [
    "## N_grams extraction function"
   ]
  },
  {
   "cell_type": "code",
   "execution_count": 7,
   "id": "domestic-bradford",
   "metadata": {
    "ExecuteTime": {
     "end_time": "2021-03-29T16:00:05.712544Z",
     "start_time": "2021-03-29T16:00:05.707035Z"
    }
   },
   "outputs": [],
   "source": [
    "def get_ngrams(text, gram_size=1):\n",
    "    '''Generates a list of n-grams for a given text with a given n_gram_size\n",
    "       Returns a tuple: (n_gram_size, list of n_grams)'''\n",
    "    \n",
    "    # convert ocr to list\n",
    "    words = text.split()\n",
    "    \n",
    "    # extract n_grams\n",
    "    patterns = list(nltk.ngrams(words, gram_size))\n",
    "    \n",
    "    # return n_grams strings instead of tuples              \n",
    "    if gram_size == 1:\n",
    "        n_grams = [p[0] for p in patterns]\n",
    "    else: n_grams = [\n",
    "                    ' '.join(p[i] for i in range(len(p))) \\\n",
    "                    for p in patterns\n",
    "                    ]    \n",
    "\n",
    "    # return gram_size and list of n_grams\n",
    "    return (gram_size, n_grams)\n",
    "\n",
    "\n",
    "#df['patterns'] = df.clean_text.head(2).apply(lambda x: get_ngrams(x, gram_size=1))"
   ]
  },
  {
   "cell_type": "markdown",
   "id": "comic-longitude",
   "metadata": {},
   "source": [
    "## Generation of the DataFrame"
   ]
  },
  {
   "cell_type": "code",
   "execution_count": 8,
   "id": "vital-collapse",
   "metadata": {
    "ExecuteTime": {
     "end_time": "2021-03-29T16:06:01.337167Z",
     "start_time": "2021-03-29T16:00:13.220860Z"
    },
    "scrolled": true
   },
   "outputs": [
    {
     "name": "stderr",
     "output_type": "stream",
     "text": [
      "100%|██████████| 434896/434896 [05:48<00:00, 1249.32it/s]\n"
     ]
    }
   ],
   "source": [
    "indexes = []\n",
    "patterns = []\n",
    "n_gram_size = []\n",
    "\n",
    "# Iterate over each OCR\n",
    "for i,text in tqdm(df['clean_text'].iteritems(), total=df.shape[0]):\n",
    "    \n",
    "    # Initialize a vocab length\n",
    "    len_vocab = 0\n",
    "\n",
    "    # Iterate over each n_gram size\n",
    "    for k in range(10):\n",
    "        results = get_ngrams(text, gram_size=k+1)  # extract n_grams\n",
    "        patterns.extend(results[1])                # store them in patterns\n",
    "        len_vocab = len_vocab + len(results[1])    # store number of patterns\n",
    "        n_gram_size.extend([f'{k+1}-grams'] * len(results[1])) # store size\n",
    "    indexes.extend([i] * len_vocab)"
   ]
  },
  {
   "cell_type": "code",
   "execution_count": 9,
   "id": "affiliated-illinois",
   "metadata": {
    "ExecuteTime": {
     "end_time": "2021-03-29T16:06:20.901630Z",
     "start_time": "2021-03-29T16:06:20.892796Z"
    },
    "scrolled": true
   },
   "outputs": [
    {
     "data": {
      "text/plain": [
       "235933703"
      ]
     },
     "execution_count": 9,
     "metadata": {},
     "output_type": "execute_result"
    }
   ],
   "source": [
    "len(indexes)"
   ]
  },
  {
   "cell_type": "code",
   "execution_count": 10,
   "id": "gentle-simon",
   "metadata": {
    "ExecuteTime": {
     "end_time": "2021-03-29T16:15:51.476703Z",
     "start_time": "2021-03-29T16:06:28.761645Z"
    }
   },
   "outputs": [
    {
     "name": "stdout",
     "output_type": "stream",
     "text": [
      "start\n",
      "indexes\n",
      "patterns\n",
      "n_gram_size\n"
     ]
    }
   ],
   "source": [
    "# Convert list to pd.Series\n",
    "print('start')\n",
    "indexes = pd.Series(indexes)\n",
    "print('indexes')\n",
    "patterns = pd.Series(patterns)\n",
    "print('patterns')\n",
    "n_gram_size = pd.Series(n_gram_size)\n",
    "print('n_gram_size')"
   ]
  },
  {
   "cell_type": "code",
   "execution_count": 11,
   "id": "selected-march",
   "metadata": {
    "ExecuteTime": {
     "end_time": "2021-03-29T17:13:15.286872Z",
     "start_time": "2021-03-29T17:13:15.277020Z"
    }
   },
   "outputs": [],
   "source": [
    "# Initialize a DataFrame\n",
    "data = pd.DataFrame()"
   ]
  },
  {
   "cell_type": "code",
   "execution_count": 12,
   "id": "relevant-gravity",
   "metadata": {
    "ExecuteTime": {
     "end_time": "2021-03-29T17:13:18.353280Z",
     "start_time": "2021-03-29T17:13:18.342270Z"
    }
   },
   "outputs": [
    {
     "data": {
      "text/plain": [
       "0    0\n",
       "dtype: int64"
      ]
     },
     "execution_count": 12,
     "metadata": {},
     "output_type": "execute_result"
    }
   ],
   "source": [
    "indexes.head(1)"
   ]
  },
  {
   "cell_type": "code",
   "execution_count": 14,
   "id": "novel-acrobat",
   "metadata": {
    "ExecuteTime": {
     "end_time": "2021-03-29T17:22:16.487557Z",
     "start_time": "2021-03-29T17:15:29.890524Z"
    }
   },
   "outputs": [],
   "source": [
    "# Create the Pattern DataFrame\n",
    "data[['index','size','pattern']] = pd.concat([indexes, n_gram_size, patterns], axis=1)"
   ]
  },
  {
   "cell_type": "code",
   "execution_count": 17,
   "id": "subject-strip",
   "metadata": {
    "ExecuteTime": {
     "end_time": "2021-03-29T17:23:14.903260Z",
     "start_time": "2021-03-29T17:23:14.845225Z"
    }
   },
   "outputs": [
    {
     "data": {
      "text/html": [
       "<div>\n",
       "<style scoped>\n",
       "    .dataframe tbody tr th:only-of-type {\n",
       "        vertical-align: middle;\n",
       "    }\n",
       "\n",
       "    .dataframe tbody tr th {\n",
       "        vertical-align: top;\n",
       "    }\n",
       "\n",
       "    .dataframe thead th {\n",
       "        text-align: right;\n",
       "    }\n",
       "</style>\n",
       "<table border=\"1\" class=\"dataframe\">\n",
       "  <thead>\n",
       "    <tr style=\"text-align: right;\">\n",
       "      <th></th>\n",
       "      <th>size</th>\n",
       "      <th>pattern</th>\n",
       "    </tr>\n",
       "    <tr>\n",
       "      <th>index</th>\n",
       "      <th></th>\n",
       "      <th></th>\n",
       "    </tr>\n",
       "  </thead>\n",
       "  <tbody>\n",
       "    <tr>\n",
       "      <th>0</th>\n",
       "      <td>1-grams</td>\n",
       "      <td>ne</td>\n",
       "    </tr>\n",
       "  </tbody>\n",
       "</table>\n",
       "</div>"
      ],
      "text/plain": [
       "          size pattern\n",
       "index                 \n",
       "0      1-grams      ne"
      ]
     },
     "execution_count": 17,
     "metadata": {},
     "output_type": "execute_result"
    }
   ],
   "source": [
    "data.head(1)"
   ]
  },
  {
   "cell_type": "code",
   "execution_count": 19,
   "id": "purple-syndicate",
   "metadata": {
    "ExecuteTime": {
     "end_time": "2021-03-29T17:30:03.077824Z",
     "start_time": "2021-03-29T17:23:41.452867Z"
    }
   },
   "outputs": [],
   "source": [
    "# Retrieve categories, barcode, clean_text\n",
    "#data.set_index('index', inplace=True)\n",
    "\n",
    "patterns_df = pd.DataFrame()\n",
    "patterns_df = pd.merge(\n",
    "    data,\n",
    "    df[['pnns_groups_2','clean_text','barcode','source']],\n",
    "    left_index=True,\n",
    "    right_index=True,\n",
    ")"
   ]
  },
  {
   "cell_type": "code",
   "execution_count": 20,
   "id": "allied-implementation",
   "metadata": {
    "ExecuteTime": {
     "end_time": "2021-03-29T17:47:50.600525Z",
     "start_time": "2021-03-29T17:47:50.568091Z"
    }
   },
   "outputs": [
    {
     "name": "stdout",
     "output_type": "stream",
     "text": [
      "(235933703, 6)\n"
     ]
    },
    {
     "data": {
      "text/html": [
       "<div>\n",
       "<style scoped>\n",
       "    .dataframe tbody tr th:only-of-type {\n",
       "        vertical-align: middle;\n",
       "    }\n",
       "\n",
       "    .dataframe tbody tr th {\n",
       "        vertical-align: top;\n",
       "    }\n",
       "\n",
       "    .dataframe thead th {\n",
       "        text-align: right;\n",
       "    }\n",
       "</style>\n",
       "<table border=\"1\" class=\"dataframe\">\n",
       "  <thead>\n",
       "    <tr style=\"text-align: right;\">\n",
       "      <th></th>\n",
       "      <th>size</th>\n",
       "      <th>pattern</th>\n",
       "      <th>pnns_groups_2</th>\n",
       "      <th>clean_text</th>\n",
       "      <th>barcode</th>\n",
       "      <th>source</th>\n",
       "    </tr>\n",
       "  </thead>\n",
       "  <tbody>\n",
       "    <tr>\n",
       "      <th>434895</th>\n",
       "      <td>8-grams</td>\n",
       "      <td>ingredients tomate oignorn huile dolive persil...</td>\n",
       "      <td>dressings and sauces</td>\n",
       "      <td>ingredients tomate oignorn huile dolive persil...</td>\n",
       "      <td>3474320000113</td>\n",
       "      <td>/347/432/000/0113/2.json</td>\n",
       "    </tr>\n",
       "    <tr>\n",
       "      <th>434895</th>\n",
       "      <td>8-grams</td>\n",
       "      <td>tomate oignorn huile dolive persil sel et poivre</td>\n",
       "      <td>dressings and sauces</td>\n",
       "      <td>ingredients tomate oignorn huile dolive persil...</td>\n",
       "      <td>3474320000113</td>\n",
       "      <td>/347/432/000/0113/2.json</td>\n",
       "    </tr>\n",
       "    <tr>\n",
       "      <th>434895</th>\n",
       "      <td>9-grams</td>\n",
       "      <td>ingredients tomate oignorn huile dolive persil...</td>\n",
       "      <td>dressings and sauces</td>\n",
       "      <td>ingredients tomate oignorn huile dolive persil...</td>\n",
       "      <td>3474320000113</td>\n",
       "      <td>/347/432/000/0113/2.json</td>\n",
       "    </tr>\n",
       "  </tbody>\n",
       "</table>\n",
       "</div>"
      ],
      "text/plain": [
       "           size                                            pattern  \\\n",
       "434895  8-grams  ingredients tomate oignorn huile dolive persil...   \n",
       "434895  8-grams   tomate oignorn huile dolive persil sel et poivre   \n",
       "434895  9-grams  ingredients tomate oignorn huile dolive persil...   \n",
       "\n",
       "               pnns_groups_2  \\\n",
       "434895  dressings and sauces   \n",
       "434895  dressings and sauces   \n",
       "434895  dressings and sauces   \n",
       "\n",
       "                                               clean_text        barcode  \\\n",
       "434895  ingredients tomate oignorn huile dolive persil...  3474320000113   \n",
       "434895  ingredients tomate oignorn huile dolive persil...  3474320000113   \n",
       "434895  ingredients tomate oignorn huile dolive persil...  3474320000113   \n",
       "\n",
       "                          source  \n",
       "434895  /347/432/000/0113/2.json  \n",
       "434895  /347/432/000/0113/2.json  \n",
       "434895  /347/432/000/0113/2.json  "
      ]
     },
     "execution_count": 20,
     "metadata": {},
     "output_type": "execute_result"
    }
   ],
   "source": [
    "print(patterns_df.shape)\n",
    "patterns_df.tail(3)"
   ]
  },
  {
   "cell_type": "markdown",
   "id": "binding-sudan",
   "metadata": {
    "ExecuteTime": {
     "end_time": "2021-03-29T18:59:36.563847Z",
     "start_time": "2021-03-29T18:59:36.556201Z"
    }
   },
   "source": [
    "## Calculate frequencies"
   ]
  },
  {
   "cell_type": "code",
   "execution_count": 30,
   "id": "scheduled-gospel",
   "metadata": {
    "ExecuteTime": {
     "end_time": "2021-03-29T19:00:26.059548Z",
     "start_time": "2021-03-29T19:00:26.044305Z"
    }
   },
   "outputs": [
    {
     "data": {
      "text/html": [
       "<div>\n",
       "<style scoped>\n",
       "    .dataframe tbody tr th:only-of-type {\n",
       "        vertical-align: middle;\n",
       "    }\n",
       "\n",
       "    .dataframe tbody tr th {\n",
       "        vertical-align: top;\n",
       "    }\n",
       "\n",
       "    .dataframe thead th {\n",
       "        text-align: right;\n",
       "    }\n",
       "</style>\n",
       "<table border=\"1\" class=\"dataframe\">\n",
       "  <thead>\n",
       "    <tr style=\"text-align: right;\">\n",
       "      <th></th>\n",
       "      <th>barcode</th>\n",
       "      <th>clean_text</th>\n",
       "      <th>fr_text</th>\n",
       "      <th>source</th>\n",
       "      <th>pnns_groups_1</th>\n",
       "      <th>pnns_groups_2</th>\n",
       "    </tr>\n",
       "  </thead>\n",
       "  <tbody>\n",
       "    <tr>\n",
       "      <th>0</th>\n",
       "      <td>3199660476748</td>\n",
       "      <td>ne eleve abattu en bretagne les eleveurs de br...</td>\n",
       "      <td>NE\\nELEVE\\nABATTU\\nEN BRETAGNE\\nLES ÉLEVEURS\\n...</td>\n",
       "      <td>/319/966/047/6748/1.json</td>\n",
       "      <td>fish meat eggs</td>\n",
       "      <td>meat</td>\n",
       "    </tr>\n",
       "  </tbody>\n",
       "</table>\n",
       "</div>"
      ],
      "text/plain": [
       "         barcode                                         clean_text  \\\n",
       "0  3199660476748  ne eleve abattu en bretagne les eleveurs de br...   \n",
       "\n",
       "                                             fr_text  \\\n",
       "0  NE\\nELEVE\\nABATTU\\nEN BRETAGNE\\nLES ÉLEVEURS\\n...   \n",
       "\n",
       "                     source   pnns_groups_1 pnns_groups_2  \n",
       "0  /319/966/047/6748/1.json  fish meat eggs          meat  "
      ]
     },
     "execution_count": 30,
     "metadata": {},
     "output_type": "execute_result"
    }
   ],
   "source": [
    "df.head(1)"
   ]
  },
  {
   "cell_type": "code",
   "execution_count": 32,
   "id": "blond-resource",
   "metadata": {
    "ExecuteTime": {
     "end_time": "2021-03-29T19:00:36.872091Z",
     "start_time": "2021-03-29T19:00:36.810873Z"
    }
   },
   "outputs": [],
   "source": [
    "categories = sorted(list(df.pnns_groups_2.unique()))"
   ]
  },
  {
   "cell_type": "code",
   "execution_count": 41,
   "id": "sitting-stream",
   "metadata": {
    "ExecuteTime": {
     "end_time": "2021-03-29T21:15:34.680456Z",
     "start_time": "2021-03-29T21:15:34.676039Z"
    }
   },
   "outputs": [],
   "source": [
    "ex_1 = patterns_df.head(10009).tail(2)"
   ]
  },
  {
   "cell_type": "code",
   "execution_count": 42,
   "id": "level-laundry",
   "metadata": {
    "ExecuteTime": {
     "end_time": "2021-03-29T21:15:55.143923Z",
     "start_time": "2021-03-29T21:15:55.137444Z"
    }
   },
   "outputs": [],
   "source": [
    "ex_2 = patterns_df.head(2)"
   ]
  },
  {
   "cell_type": "code",
   "execution_count": 73,
   "id": "younger-story",
   "metadata": {
    "ExecuteTime": {
     "end_time": "2021-03-29T21:34:30.641821Z",
     "start_time": "2021-03-29T21:34:30.636880Z"
    }
   },
   "outputs": [],
   "source": [
    "ex = pd.concat([ex_1,ex_2])"
   ]
  },
  {
   "cell_type": "code",
   "execution_count": 74,
   "id": "unnecessary-relay",
   "metadata": {
    "ExecuteTime": {
     "end_time": "2021-03-29T21:34:31.179926Z",
     "start_time": "2021-03-29T21:34:31.166620Z"
    }
   },
   "outputs": [
    {
     "data": {
      "text/html": [
       "<div>\n",
       "<style scoped>\n",
       "    .dataframe tbody tr th:only-of-type {\n",
       "        vertical-align: middle;\n",
       "    }\n",
       "\n",
       "    .dataframe tbody tr th {\n",
       "        vertical-align: top;\n",
       "    }\n",
       "\n",
       "    .dataframe thead th {\n",
       "        text-align: right;\n",
       "    }\n",
       "</style>\n",
       "<table border=\"1\" class=\"dataframe\">\n",
       "  <thead>\n",
       "    <tr style=\"text-align: right;\">\n",
       "      <th></th>\n",
       "      <th>size</th>\n",
       "      <th>pattern</th>\n",
       "      <th>pnns_groups_2</th>\n",
       "      <th>clean_text</th>\n",
       "      <th>barcode</th>\n",
       "      <th>source</th>\n",
       "    </tr>\n",
       "  </thead>\n",
       "  <tbody>\n",
       "    <tr>\n",
       "      <th>20</th>\n",
       "      <td>1-grams</td>\n",
       "      <td>incorp</td>\n",
       "      <td>sweets</td>\n",
       "      <td>cons a conse dans s se cone apres avan sucre a...</td>\n",
       "      <td>3196203800022</td>\n",
       "      <td>/319/620/380/0022/5.json</td>\n",
       "    </tr>\n",
       "    <tr>\n",
       "      <th>20</th>\n",
       "      <td>1-grams</td>\n",
       "      <td>le</td>\n",
       "      <td>sweets</td>\n",
       "      <td>cons a conse dans s se cone apres avan sucre a...</td>\n",
       "      <td>3196203800022</td>\n",
       "      <td>/319/620/380/0022/5.json</td>\n",
       "    </tr>\n",
       "    <tr>\n",
       "      <th>0</th>\n",
       "      <td>1-grams</td>\n",
       "      <td>ne</td>\n",
       "      <td>meat</td>\n",
       "      <td>ne eleve abattu en bretagne les eleveurs de br...</td>\n",
       "      <td>3199660476748</td>\n",
       "      <td>/319/966/047/6748/1.json</td>\n",
       "    </tr>\n",
       "    <tr>\n",
       "      <th>0</th>\n",
       "      <td>1-grams</td>\n",
       "      <td>eleve</td>\n",
       "      <td>meat</td>\n",
       "      <td>ne eleve abattu en bretagne les eleveurs de br...</td>\n",
       "      <td>3199660476748</td>\n",
       "      <td>/319/966/047/6748/1.json</td>\n",
       "    </tr>\n",
       "  </tbody>\n",
       "</table>\n",
       "</div>"
      ],
      "text/plain": [
       "       size pattern pnns_groups_2  \\\n",
       "20  1-grams  incorp        sweets   \n",
       "20  1-grams      le        sweets   \n",
       "0   1-grams      ne          meat   \n",
       "0   1-grams   eleve          meat   \n",
       "\n",
       "                                           clean_text        barcode  \\\n",
       "20  cons a conse dans s se cone apres avan sucre a...  3196203800022   \n",
       "20  cons a conse dans s se cone apres avan sucre a...  3196203800022   \n",
       "0   ne eleve abattu en bretagne les eleveurs de br...  3199660476748   \n",
       "0   ne eleve abattu en bretagne les eleveurs de br...  3199660476748   \n",
       "\n",
       "                      source  \n",
       "20  /319/620/380/0022/5.json  \n",
       "20  /319/620/380/0022/5.json  \n",
       "0   /319/966/047/6748/1.json  \n",
       "0   /319/966/047/6748/1.json  "
      ]
     },
     "execution_count": 74,
     "metadata": {},
     "output_type": "execute_result"
    }
   ],
   "source": [
    "ex"
   ]
  },
  {
   "cell_type": "code",
   "execution_count": 80,
   "id": "structured-register",
   "metadata": {
    "ExecuteTime": {
     "end_time": "2021-03-29T21:36:07.004376Z",
     "start_time": "2021-03-29T21:36:06.994254Z"
    }
   },
   "outputs": [
    {
     "name": "stdout",
     "output_type": "stream",
     "text": [
      "[0. 0. 1. 1.]\n",
      "[1. 1. 0. 0.]\n"
     ]
    }
   ],
   "source": [
    "from sklearn.preprocessing import OneHotEncoder\n",
    "ohen = OneHotEncoder(sparse = False)\n",
    "pnns_encoded = ohen.fit_transform(ex[['pnns_groups_2']])\n",
    "categories = sorted(list(ex.pnns_groups_2.unique()))\n",
    "for i,cat in enumerate(categories):\n",
    "    print(pnns_encoded[:,i])\n",
    "    ex[f'{cat}'] = pnns_encoded[:,i]\n"
   ]
  },
  {
   "cell_type": "code",
   "execution_count": 84,
   "id": "narrative-switch",
   "metadata": {
    "ExecuteTime": {
     "end_time": "2021-03-29T21:37:56.345818Z",
     "start_time": "2021-03-29T21:37:56.332907Z"
    }
   },
   "outputs": [
    {
     "data": {
      "text/html": [
       "<div>\n",
       "<style scoped>\n",
       "    .dataframe tbody tr th:only-of-type {\n",
       "        vertical-align: middle;\n",
       "    }\n",
       "\n",
       "    .dataframe tbody tr th {\n",
       "        vertical-align: top;\n",
       "    }\n",
       "\n",
       "    .dataframe thead th {\n",
       "        text-align: right;\n",
       "    }\n",
       "</style>\n",
       "<table border=\"1\" class=\"dataframe\">\n",
       "  <thead>\n",
       "    <tr style=\"text-align: right;\">\n",
       "      <th></th>\n",
       "      <th>barcode</th>\n",
       "      <th>meat</th>\n",
       "      <th>sweets</th>\n",
       "    </tr>\n",
       "    <tr>\n",
       "      <th>pattern</th>\n",
       "      <th></th>\n",
       "      <th></th>\n",
       "      <th></th>\n",
       "    </tr>\n",
       "  </thead>\n",
       "  <tbody>\n",
       "    <tr>\n",
       "      <th>eleve</th>\n",
       "      <td>3199660476748</td>\n",
       "      <td>1.0</td>\n",
       "      <td>0.0</td>\n",
       "    </tr>\n",
       "    <tr>\n",
       "      <th>incorp</th>\n",
       "      <td>3196203800022</td>\n",
       "      <td>0.0</td>\n",
       "      <td>1.0</td>\n",
       "    </tr>\n",
       "    <tr>\n",
       "      <th>le</th>\n",
       "      <td>3196203800022</td>\n",
       "      <td>0.0</td>\n",
       "      <td>1.0</td>\n",
       "    </tr>\n",
       "    <tr>\n",
       "      <th>ne</th>\n",
       "      <td>3199660476748</td>\n",
       "      <td>1.0</td>\n",
       "      <td>0.0</td>\n",
       "    </tr>\n",
       "  </tbody>\n",
       "</table>\n",
       "</div>"
      ],
      "text/plain": [
       "               barcode  meat  sweets\n",
       "pattern                             \n",
       "eleve    3199660476748   1.0     0.0\n",
       "incorp   3196203800022   0.0     1.0\n",
       "le       3196203800022   0.0     1.0\n",
       "ne       3199660476748   1.0     0.0"
      ]
     },
     "execution_count": 84,
     "metadata": {},
     "output_type": "execute_result"
    }
   ],
   "source": [
    "ex.groupby('pattern').sum(categories)"
   ]
  },
  {
   "cell_type": "markdown",
   "id": "expanded-uruguay",
   "metadata": {},
   "source": [
    "## Load CSV"
   ]
  },
  {
   "cell_type": "code",
   "execution_count": null,
   "id": "anonymous-coffee",
   "metadata": {
    "ExecuteTime": {
     "start_time": "2021-03-30T07:10:23.374Z"
    }
   },
   "outputs": [],
   "source": [
    "patterns_df.to_csv('../raw_data/patterns_df.csv', chunksize=100_000, compression='gzip', index=False)"
   ]
  },
  {
   "cell_type": "code",
   "execution_count": null,
   "id": "neutral-result",
   "metadata": {},
   "outputs": [],
   "source": []
  }
 ],
 "metadata": {
  "kernelspec": {
   "display_name": "Python 3",
   "language": "python",
   "name": "python3"
  },
  "language_info": {
   "codemirror_mode": {
    "name": "ipython",
    "version": 3
   },
   "file_extension": ".py",
   "mimetype": "text/x-python",
   "name": "python",
   "nbconvert_exporter": "python",
   "pygments_lexer": "ipython3",
   "version": "3.8.6"
  },
  "toc": {
   "base_numbering": 1,
   "nav_menu": {},
   "number_sections": true,
   "sideBar": true,
   "skip_h1_title": false,
   "title_cell": "Table of Contents",
   "title_sidebar": "Contents",
   "toc_cell": false,
   "toc_position": {},
   "toc_section_display": true,
   "toc_window_display": false
  },
  "varInspector": {
   "cols": {
    "lenName": 16,
    "lenType": 16,
    "lenVar": 40
   },
   "kernels_config": {
    "python": {
     "delete_cmd_postfix": "",
     "delete_cmd_prefix": "del ",
     "library": "var_list.py",
     "varRefreshCmd": "print(var_dic_list())"
    },
    "r": {
     "delete_cmd_postfix": ") ",
     "delete_cmd_prefix": "rm(",
     "library": "var_list.r",
     "varRefreshCmd": "cat(var_dic_list()) "
    }
   },
   "types_to_exclude": [
    "module",
    "function",
    "builtin_function_or_method",
    "instance",
    "_Feature"
   ],
   "window_display": false
  }
 },
 "nbformat": 4,
 "nbformat_minor": 5
}
