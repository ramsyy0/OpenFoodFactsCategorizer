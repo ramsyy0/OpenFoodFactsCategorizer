{
 "cells": [
  {
   "cell_type": "code",
   "execution_count": 1,
   "id": "satisfied-wonder",
   "metadata": {
    "ExecuteTime": {
     "end_time": "2021-03-29T10:44:13.667781Z",
     "start_time": "2021-03-29T10:44:12.616904Z"
    }
   },
   "outputs": [],
   "source": [
    "# Linear algebra\n",
    "import pandas as pd\n",
    "import numpy as np\n",
    "\n",
    "# Data visualization\n",
    "import matplotlib.pyplot as plt\n",
    "import seaborn as sns"
   ]
  },
  {
   "cell_type": "markdown",
   "id": "sound-vacuum",
   "metadata": {},
   "source": [
    "# Script to generate n-grams dataset"
   ]
  },
  {
   "cell_type": "markdown",
   "id": "indie-tokyo",
   "metadata": {},
   "source": [
    "# Link N-grams to Categories"
   ]
  },
  {
   "cell_type": "code",
   "execution_count": 3,
   "id": "subject-defense",
   "metadata": {
    "ExecuteTime": {
     "end_time": "2021-03-28T19:47:20.118328Z",
     "start_time": "2021-03-28T19:47:20.115064Z"
    }
   },
   "outputs": [],
   "source": [
    "# Load n-grams dataset (1 to 10)\n",
    "# Link to pnns-groups 2\n",
    "# Download csv"
   ]
  },
  {
   "cell_type": "markdown",
   "id": "unlimited-favorite",
   "metadata": {
    "ExecuteTime": {
     "end_time": "2021-03-28T19:48:28.224236Z",
     "start_time": "2021-03-28T19:48:28.221141Z"
    }
   },
   "source": [
    "## Load n-grams dataset (1 to 10)"
   ]
  },
  {
   "cell_type": "code",
   "execution_count": 3,
   "id": "foster-indonesian",
   "metadata": {
    "ExecuteTime": {
     "end_time": "2021-03-29T10:44:23.883689Z",
     "start_time": "2021-03-29T10:44:23.811972Z"
    }
   },
   "outputs": [],
   "source": [
    "file = '../raw_data/ngrams_frequencies.csv'\n",
    "df = pd.read_csv(file)"
   ]
  },
  {
   "cell_type": "code",
   "execution_count": 4,
   "id": "commercial-sunglasses",
   "metadata": {
    "ExecuteTime": {
     "end_time": "2021-03-29T10:44:25.290937Z",
     "start_time": "2021-03-29T10:44:25.264920Z"
    },
    "scrolled": false
   },
   "outputs": [
    {
     "data": {
      "text/html": [
       "<div>\n",
       "<style scoped>\n",
       "    .dataframe tbody tr th:only-of-type {\n",
       "        vertical-align: middle;\n",
       "    }\n",
       "\n",
       "    .dataframe tbody tr th {\n",
       "        vertical-align: top;\n",
       "    }\n",
       "\n",
       "    .dataframe thead th {\n",
       "        text-align: right;\n",
       "    }\n",
       "</style>\n",
       "<table border=\"1\" class=\"dataframe\">\n",
       "  <thead>\n",
       "    <tr style=\"text-align: right;\">\n",
       "      <th></th>\n",
       "      <th>n_gram_size</th>\n",
       "      <th>pattern</th>\n",
       "      <th>freq - fish meat eggs</th>\n",
       "      <th>freq - sugary snacks</th>\n",
       "      <th>freq - cereals and potatoes</th>\n",
       "      <th>freq - milk and dairy products</th>\n",
       "      <th>freq - fat and sauces</th>\n",
       "      <th>freq - fruits and vegetables</th>\n",
       "      <th>freq - salty snacks</th>\n",
       "      <th>freq - beverages</th>\n",
       "      <th>freq - composite foods</th>\n",
       "    </tr>\n",
       "  </thead>\n",
       "  <tbody>\n",
       "    <tr>\n",
       "      <th>38862</th>\n",
       "      <td>10-grams</td>\n",
       "      <td>('sature', 'glucides', 'sucre', 'fibre', 'alim...</td>\n",
       "      <td>0.133</td>\n",
       "      <td>0.200</td>\n",
       "      <td>0.067</td>\n",
       "      <td>0.133</td>\n",
       "      <td>0.067</td>\n",
       "      <td>0.067</td>\n",
       "      <td>0.200</td>\n",
       "      <td>0.133</td>\n",
       "      <td>0.133</td>\n",
       "    </tr>\n",
       "    <tr>\n",
       "      <th>38863</th>\n",
       "      <td>10-grams</td>\n",
       "      <td>('acides', 'gras', 'sature', 'glucides', 'sucr...</td>\n",
       "      <td>0.133</td>\n",
       "      <td>0.200</td>\n",
       "      <td>0.067</td>\n",
       "      <td>0.133</td>\n",
       "      <td>0.067</td>\n",
       "      <td>0.067</td>\n",
       "      <td>0.200</td>\n",
       "      <td>0.133</td>\n",
       "      <td>0.133</td>\n",
       "    </tr>\n",
       "    <tr>\n",
       "      <th>38864</th>\n",
       "      <td>10-grams</td>\n",
       "      <td>('acides', 'gras', 'satures', 'glucides', 'suc...</td>\n",
       "      <td>0.200</td>\n",
       "      <td>0.133</td>\n",
       "      <td>0.067</td>\n",
       "      <td>0.067</td>\n",
       "      <td>0.067</td>\n",
       "      <td>0.200</td>\n",
       "      <td>0.133</td>\n",
       "      <td>0.067</td>\n",
       "      <td>0.133</td>\n",
       "    </tr>\n",
       "    <tr>\n",
       "      <th>38865</th>\n",
       "      <td>10-grams</td>\n",
       "      <td>('acides', 'gras', 'satures', 'glucides', 'suc...</td>\n",
       "      <td>0.077</td>\n",
       "      <td>0.154</td>\n",
       "      <td>0.154</td>\n",
       "      <td>0.077</td>\n",
       "      <td>0.077</td>\n",
       "      <td>0.077</td>\n",
       "      <td>0.154</td>\n",
       "      <td>0.077</td>\n",
       "      <td>0.154</td>\n",
       "    </tr>\n",
       "    <tr>\n",
       "      <th>38866</th>\n",
       "      <td>10-grams</td>\n",
       "      <td>('acides', 'gras', 'saturesg', 'matieres', 'gr...</td>\n",
       "      <td>0.083</td>\n",
       "      <td>0.167</td>\n",
       "      <td>0.083</td>\n",
       "      <td>0.083</td>\n",
       "      <td>0.083</td>\n",
       "      <td>0.083</td>\n",
       "      <td>0.250</td>\n",
       "      <td>0.083</td>\n",
       "      <td>0.083</td>\n",
       "    </tr>\n",
       "  </tbody>\n",
       "</table>\n",
       "</div>"
      ],
      "text/plain": [
       "      n_gram_size                                            pattern  \\\n",
       "38862    10-grams  ('sature', 'glucides', 'sucre', 'fibre', 'alim...   \n",
       "38863    10-grams  ('acides', 'gras', 'sature', 'glucides', 'sucr...   \n",
       "38864    10-grams  ('acides', 'gras', 'satures', 'glucides', 'suc...   \n",
       "38865    10-grams  ('acides', 'gras', 'satures', 'glucides', 'suc...   \n",
       "38866    10-grams  ('acides', 'gras', 'saturesg', 'matieres', 'gr...   \n",
       "\n",
       "       freq - fish meat eggs  freq - sugary snacks  \\\n",
       "38862                  0.133                 0.200   \n",
       "38863                  0.133                 0.200   \n",
       "38864                  0.200                 0.133   \n",
       "38865                  0.077                 0.154   \n",
       "38866                  0.083                 0.167   \n",
       "\n",
       "       freq - cereals and potatoes  freq - milk and dairy products  \\\n",
       "38862                        0.067                           0.133   \n",
       "38863                        0.067                           0.133   \n",
       "38864                        0.067                           0.067   \n",
       "38865                        0.154                           0.077   \n",
       "38866                        0.083                           0.083   \n",
       "\n",
       "       freq - fat and sauces  freq - fruits and vegetables  \\\n",
       "38862                  0.067                         0.067   \n",
       "38863                  0.067                         0.067   \n",
       "38864                  0.067                         0.200   \n",
       "38865                  0.077                         0.077   \n",
       "38866                  0.083                         0.083   \n",
       "\n",
       "       freq - salty snacks  freq - beverages  freq - composite foods  \n",
       "38862                0.200             0.133                   0.133  \n",
       "38863                0.200             0.133                   0.133  \n",
       "38864                0.133             0.067                   0.133  \n",
       "38865                0.154             0.077                   0.154  \n",
       "38866                0.250             0.083                   0.083  "
      ]
     },
     "execution_count": 4,
     "metadata": {},
     "output_type": "execute_result"
    }
   ],
   "source": [
    "df.tail()"
   ]
  },
  {
   "cell_type": "markdown",
   "id": "freelance-omaha",
   "metadata": {
    "ExecuteTime": {
     "end_time": "2021-03-28T19:59:16.282267Z",
     "start_time": "2021-03-28T19:59:16.278675Z"
    },
    "heading_collapsed": true
   },
   "source": [
    "## Select N-grams"
   ]
  },
  {
   "cell_type": "code",
   "execution_count": 5,
   "id": "quantitative-romance",
   "metadata": {
    "ExecuteTime": {
     "end_time": "2021-03-29T10:44:38.314429Z",
     "start_time": "2021-03-29T10:44:37.674382Z"
    },
    "hidden": true
   },
   "outputs": [
    {
     "data": {
      "text/plain": [
       "['sucre', 'sel', 'ingredient']"
      ]
     },
     "execution_count": 5,
     "metadata": {},
     "output_type": "execute_result"
    }
   ],
   "source": [
    "### Retrieve unigrams\n",
    "\n",
    "# Select unigrams\n",
    "unigrams_df = df[df['n_gram_size'] == '1-grams'][['pattern']]\n",
    "\n",
    "# Convert unigrams in a list of strings\n",
    "unigrams = []\n",
    "for row in unigrams_df.iterrows():\n",
    "    unigrams.append(str(row[1][0][2:-3]))\n",
    "\n",
    "unigrams[:3]"
   ]
  },
  {
   "cell_type": "code",
   "execution_count": 6,
   "id": "powerful-sigma",
   "metadata": {
    "ExecuteTime": {
     "end_time": "2021-03-29T10:44:39.772906Z",
     "start_time": "2021-03-29T10:44:39.231653Z"
    },
    "hidden": true
   },
   "outputs": [
    {
     "data": {
      "text/plain": [
       "['acides gras', 'matieres grass', 'gras satures', 'glucides sucre']"
      ]
     },
     "execution_count": 6,
     "metadata": {},
     "output_type": "execute_result"
    }
   ],
   "source": [
    "### Retrieve bigrams\n",
    "\n",
    "bigrams_df = df[df['n_gram_size'] == '2-grams'][['pattern']]\n",
    "\n",
    "bigrams = []\n",
    "for row in bigrams_df.iterrows():\n",
    "    pattern = str(row[1][0]).split(',')\n",
    "    words = []\n",
    "    for k in range(2): # if 2-grams and more, here's how to retrieve the pattern\n",
    "        if k<(2-1):\n",
    "            words.append(pattern[k][2:-1]) # let's add each word of the pattern to the list words\n",
    "        else:\n",
    "            words.append(pattern[k][2:-2])\n",
    "    bigrams.append(' '.join(words)) # let's add each pattern to the temp_list\n",
    "\n",
    "bigrams[:4]"
   ]
  },
  {
   "cell_type": "code",
   "execution_count": 7,
   "id": "arranged-mauritius",
   "metadata": {
    "ExecuteTime": {
     "end_time": "2021-03-29T10:44:40.933178Z",
     "start_time": "2021-03-29T10:44:40.561173Z"
    },
    "hidden": true
   },
   "outputs": [
    {
     "data": {
      "text/plain": [
       "['acides gras satures',\n",
       " 'grass acides gras',\n",
       " 'satures glucides sucre',\n",
       " 'matieres grass acides']"
      ]
     },
     "execution_count": 7,
     "metadata": {},
     "output_type": "execute_result"
    }
   ],
   "source": [
    "### Retrieve trigrams\n",
    "\n",
    "trigrams_df = df[df['n_gram_size'] == '3-grams'][['pattern']]\n",
    "\n",
    "trigrams = []\n",
    "for row in trigrams_df.iterrows():\n",
    "    pattern = str(row[1][0]).split(',')\n",
    "    words = []\n",
    "    for k in range(3): # if 2-grams and more, here's how to retrieve the pattern\n",
    "        if k<(3-1):\n",
    "            words.append(pattern[k][2:-1]) # let's add each word of the pattern to the list words\n",
    "        else:\n",
    "            words.append(pattern[k][2:-2])\n",
    "    trigrams.append(' '.join(words)) # let's add each pattern to the temp_list\n",
    "\n",
    "trigrams[:4]"
   ]
  },
  {
   "cell_type": "code",
   "execution_count": 8,
   "id": "arabic-venice",
   "metadata": {
    "ExecuteTime": {
     "end_time": "2021-03-29T10:44:42.134173Z",
     "start_time": "2021-03-29T10:44:41.856410Z"
    },
    "hidden": true
   },
   "outputs": [
    {
     "data": {
      "text/plain": [
       "['grass acides gras satures',\n",
       " 'matieres grass acides gras',\n",
       " 'acides gras satures glucides',\n",
       " 'gras satures glucides sucre']"
      ]
     },
     "execution_count": 8,
     "metadata": {},
     "output_type": "execute_result"
    }
   ],
   "source": [
    "### Retrieve quadrigrams\n",
    "\n",
    "quadrigrams_df = df[df['n_gram_size'] == '4-grams'][['pattern']]\n",
    "\n",
    "quadrigrams = []\n",
    "for row in quadrigrams_df.iterrows():\n",
    "    pattern = str(row[1][0]).split(',')\n",
    "    words = []\n",
    "    for k in range(4): # if 2-grams and more, here's how to retrieve the pattern\n",
    "        if k<(4-1):\n",
    "            words.append(pattern[k][2:-1]) # let's add each word of the pattern to the list words\n",
    "        else:\n",
    "            words.append(pattern[k][2:-2])\n",
    "    quadrigrams.append(' '.join(words)) # let's add each pattern to the temp_list\n",
    "\n",
    "quadrigrams[:4]"
   ]
  },
  {
   "cell_type": "code",
   "execution_count": 9,
   "id": "regulation-northwest",
   "metadata": {
    "ExecuteTime": {
     "end_time": "2021-03-29T10:44:43.067381Z",
     "start_time": "2021-03-29T10:44:42.842764Z"
    },
    "hidden": true
   },
   "outputs": [
    {
     "data": {
      "text/plain": [
       "['matieres grass acides gras satures',\n",
       " 'acides gras satures glucides sucre',\n",
       " 'grass acides gras satures glucides',\n",
       " 'energie matieres grass acides gras']"
      ]
     },
     "execution_count": 9,
     "metadata": {},
     "output_type": "execute_result"
    }
   ],
   "source": [
    "### Retrieve quintagrams\n",
    "\n",
    "pentagrams_df = df[df['n_gram_size'] == '5-grams'][['pattern']]\n",
    "\n",
    "pentagrams = []\n",
    "for row in pentagrams_df.iterrows():\n",
    "    pattern = str(row[1][0]).split(',')\n",
    "    words = []\n",
    "    for k in range(5): # if 2-grams and more, here's how to retrieve the pattern\n",
    "        if k<(5-1):\n",
    "            words.append(pattern[k][2:-1]) # let's add each word of the pattern to the list words\n",
    "        else:\n",
    "            words.append(pattern[k][2:-2])\n",
    "    pentagrams.append(' '.join(words)) # let's add each pattern to the temp_list\n",
    "\n",
    "pentagrams[:4]"
   ]
  },
  {
   "cell_type": "code",
   "execution_count": 10,
   "id": "derived-biography",
   "metadata": {
    "ExecuteTime": {
     "end_time": "2021-03-29T10:44:43.966090Z",
     "start_time": "2021-03-29T10:44:43.791599Z"
    },
    "hidden": true
   },
   "outputs": [
    {
     "data": {
      "text/plain": [
       "['matieres grass acides gras satures glucides',\n",
       " 'grass acides gras satures glucides sucre',\n",
       " 'energie matieres grass acides gras satures',\n",
       " 'acides gras satures glucides sucre fibre']"
      ]
     },
     "execution_count": 10,
     "metadata": {},
     "output_type": "execute_result"
    }
   ],
   "source": [
    "### Retrieve sextagrams\n",
    "\n",
    "sextagrams_df = df[df['n_gram_size'] == '6-grams'][['pattern']]\n",
    "\n",
    "sextagrams = []\n",
    "for row in sextagrams_df.iterrows():\n",
    "    pattern = str(row[1][0]).split(',')\n",
    "    words = []\n",
    "    for k in range(6): # if 2-grams and more, here's how to retrieve the pattern\n",
    "        if k<(6-1):\n",
    "            words.append(pattern[k][2:-1]) # let's add each word of the pattern to the list words\n",
    "        else:\n",
    "            words.append(pattern[k][2:-2])\n",
    "    sextagrams.append(' '.join(words)) # let's add each pattern to the temp_list\n",
    "\n",
    "sextagrams[:4]"
   ]
  },
  {
   "cell_type": "code",
   "execution_count": 11,
   "id": "hourly-compiler",
   "metadata": {
    "ExecuteTime": {
     "end_time": "2021-03-29T10:44:44.724656Z",
     "start_time": "2021-03-29T10:44:44.583943Z"
    },
    "hidden": true
   },
   "outputs": [
    {
     "data": {
      "text/plain": [
       "['matieres grass acides gras satures glucides sucre',\n",
       " 'energie matieres grass acides gras satures glucides',\n",
       " 'grass acides gras satures glucides sucre fibre',\n",
       " 'acides gras satures glucides sucre fibre alimentaires']"
      ]
     },
     "execution_count": 11,
     "metadata": {},
     "output_type": "execute_result"
    }
   ],
   "source": [
    "### Retrieve septagrams\n",
    "\n",
    "septagrams_df = df[df['n_gram_size'] == '7-grams'][['pattern']]\n",
    "\n",
    "septagrams = []\n",
    "for row in septagrams_df.iterrows():\n",
    "    pattern = str(row[1][0]).split(',')\n",
    "    words = []\n",
    "    for k in range(7): # if 2-grams and more, here's how to retrieve the pattern\n",
    "        if k<(7-1):\n",
    "            words.append(pattern[k][2:-1]) # let's add each word of the pattern to the list words\n",
    "        else:\n",
    "            words.append(pattern[k][2:-2])\n",
    "    septagrams.append(' '.join(words)) # let's add each pattern to the temp_list\n",
    "\n",
    "septagrams[:4]"
   ]
  },
  {
   "cell_type": "code",
   "execution_count": 12,
   "id": "varied-reduction",
   "metadata": {
    "ExecuteTime": {
     "end_time": "2021-03-29T10:44:46.069242Z",
     "start_time": "2021-03-29T10:44:45.944439Z"
    },
    "hidden": true
   },
   "outputs": [
    {
     "data": {
      "text/plain": [
       "['energie matieres grass acides gras satures glucides sucre',\n",
       " 'matieres grass acides gras satures glucides sucre fibre',\n",
       " 'acides gras satures glucides sucre fibre alimentaires proteines',\n",
       " 'grass acides gras satures glucides sucre fibre alimentaires']"
      ]
     },
     "execution_count": 12,
     "metadata": {},
     "output_type": "execute_result"
    }
   ],
   "source": [
    "### Retrieve octagrams\n",
    "\n",
    "octagrams_df = df[df['n_gram_size'] == '8-grams'][['pattern']]\n",
    "\n",
    "octagrams = []\n",
    "for row in octagrams_df.iterrows():\n",
    "    pattern = str(row[1][0]).split(',')\n",
    "    words = []\n",
    "    for k in range(8): # if 2-grams and more, here's how to retrieve the pattern\n",
    "        if k<(8-1):\n",
    "            words.append(pattern[k][2:-1]) # let's add each word of the pattern to the list words\n",
    "        else:\n",
    "            words.append(pattern[k][2:-2])\n",
    "    octagrams.append(' '.join(words)) # let's add each pattern to the temp_list\n",
    "\n",
    "octagrams[:4]"
   ]
  },
  {
   "cell_type": "code",
   "execution_count": 13,
   "id": "intimate-navigator",
   "metadata": {
    "ExecuteTime": {
     "end_time": "2021-03-29T10:44:46.922145Z",
     "start_time": "2021-03-29T10:44:46.825893Z"
    },
    "hidden": true
   },
   "outputs": [
    {
     "data": {
      "text/plain": [
       "['matieres grass acides gras satures glucides sucre fibre alimentaires',\n",
       " 'grass acides gras satures glucides sucre fibre alimentaires proteines',\n",
       " 'acides gras satures glucides sucre fibre alimentaires proteines sel',\n",
       " 'energie matieres grass acides gras satures glucides sucre fibre']"
      ]
     },
     "execution_count": 13,
     "metadata": {},
     "output_type": "execute_result"
    }
   ],
   "source": [
    "### Retrieve nonagrams\n",
    "\n",
    "nonagrams_df = df[df['n_gram_size'] == '9-grams'][['pattern']]\n",
    "\n",
    "nonagrams = []\n",
    "for row in nonagrams_df.iterrows():\n",
    "    pattern = str(row[1][0]).split(',')\n",
    "    words = []\n",
    "    for k in range(9): # if 2-grams and more, here's how to retrieve the pattern\n",
    "        if k<(9-1):\n",
    "            words.append(pattern[k][2:-1]) # let's add each word of the pattern to the list words\n",
    "        else:\n",
    "            words.append(pattern[k][2:-2])\n",
    "    nonagrams.append(' '.join(words)) # let's add each pattern to the temp_list\n",
    "\n",
    "nonagrams[:4]"
   ]
  },
  {
   "cell_type": "code",
   "execution_count": 14,
   "id": "mounted-console",
   "metadata": {
    "ExecuteTime": {
     "end_time": "2021-03-29T10:44:48.734272Z",
     "start_time": "2021-03-29T10:44:48.651864Z"
    },
    "hidden": true
   },
   "outputs": [
    {
     "data": {
      "text/plain": [
       "['matieres grass acides gras satures glucides sucre fibre alimentaires proteines',\n",
       " 'grass acides gras satures glucides sucre fibre alimentaires proteines sel',\n",
       " 'energie matieres grass acides gras satures glucides sucre fibre alimentaires',\n",
       " 'nutritionnelles moyennes energie matieres grass acides gras satures glucides sucre']"
      ]
     },
     "execution_count": 14,
     "metadata": {},
     "output_type": "execute_result"
    }
   ],
   "source": [
    "### Retrieve decagrams\n",
    "\n",
    "decagrams_df = df[df['n_gram_size'] == '10-grams'][['pattern']]\n",
    "\n",
    "decagrams = []\n",
    "for row in decagrams_df.iterrows():\n",
    "    pattern = str(row[1][0]).split(',')\n",
    "    words = []\n",
    "    for k in range(10): # if 2-grams and more, here's how to retrieve the pattern\n",
    "        if k<(10-1):\n",
    "            words.append(pattern[k][2:-1]) # let's add each word of the pattern to the list words\n",
    "        else:\n",
    "            words.append(pattern[k][2:-2])\n",
    "    decagrams.append(' '.join(words)) # let's add each pattern to the temp_list\n",
    "\n",
    "decagrams[:4]"
   ]
  },
  {
   "cell_type": "markdown",
   "id": "relevant-scope",
   "metadata": {},
   "source": [
    "## Retrieve PNNS 2 Categories"
   ]
  },
  {
   "cell_type": "code",
   "execution_count": 15,
   "id": "handled-rider",
   "metadata": {
    "ExecuteTime": {
     "end_time": "2021-03-29T10:45:10.651244Z",
     "start_time": "2021-03-29T10:45:07.088722Z"
    }
   },
   "outputs": [],
   "source": [
    "import spacy\n",
    "import pandas as pd\n",
    "from spacy.matcher import PhraseMatcher"
   ]
  },
  {
   "cell_type": "code",
   "execution_count": 16,
   "id": "english-nickel",
   "metadata": {
    "ExecuteTime": {
     "end_time": "2021-03-29T10:45:17.962147Z",
     "start_time": "2021-03-29T10:45:14.214082Z"
    }
   },
   "outputs": [],
   "source": [
    "# Define matchers\n",
    "nlp = spacy.blank('fr')\n",
    "matcher = PhraseMatcher(nlp.vocab, attr='LOWER')"
   ]
  },
  {
   "cell_type": "code",
   "execution_count": 17,
   "id": "invisible-bread",
   "metadata": {
    "ExecuteTime": {
     "end_time": "2021-03-29T10:45:18.690108Z",
     "start_time": "2021-03-29T10:45:18.686201Z"
    }
   },
   "outputs": [],
   "source": [
    "n_gram_types = [unigrams\n",
    "          ,bigrams\n",
    "          ,trigrams\n",
    "          ,quadrigrams\n",
    "          ,pentagrams\n",
    "          ,sextagrams\n",
    "          ,septagrams\n",
    "          ,octagrams\n",
    "          ,nonagrams\n",
    "          ,decagrams]"
   ]
  },
  {
   "cell_type": "code",
   "execution_count": 18,
   "id": "concerned-perth",
   "metadata": {
    "ExecuteTime": {
     "end_time": "2021-03-29T10:45:23.333701Z",
     "start_time": "2021-03-29T10:45:22.115457Z"
    }
   },
   "outputs": [
    {
     "name": "stdout",
     "output_type": "stream",
     "text": [
      "0 sucre\n",
      "1 acides gras\n",
      "2 acides gras satures\n",
      "3 grass acides gras satures\n",
      "4 matieres grass acides gras satures\n",
      "5 matieres grass acides gras satures glucides\n",
      "6 matieres grass acides gras satures glucides sucre\n",
      "7 energie matieres grass acides gras satures glucides sucre\n",
      "8 matieres grass acides gras satures glucides sucre fibre alimentaires\n",
      "9 matieres grass acides gras satures glucides sucre fibre alimentaires proteines\n"
     ]
    }
   ],
   "source": [
    "for i,n_gram_type in enumerate(n_gram_types):\n",
    "    print(i,n_gram_type[0])\n",
    "    pattern = [nlp.make_doc(ngram) for ngram in n_gram_type]\n",
    "    matcher.add(f\"{i+1}-grams\", pattern)"
   ]
  },
  {
   "cell_type": "code",
   "execution_count": 19,
   "id": "studied-dragon",
   "metadata": {
    "ExecuteTime": {
     "end_time": "2021-03-29T10:45:53.598465Z",
     "start_time": "2021-03-29T10:45:49.719940Z"
    }
   },
   "outputs": [],
   "source": [
    "# Load the dataset with pnns2 categories\n",
    "pd.set_option('display.max_colwidth', None)\n",
    "data = pd.read_csv('../raw_data/ocr_labeled.csv')"
   ]
  },
  {
   "cell_type": "code",
   "execution_count": 36,
   "id": "arabic-westminster",
   "metadata": {
    "ExecuteTime": {
     "end_time": "2021-03-29T12:52:59.021125Z",
     "start_time": "2021-03-29T12:46:11.955508Z"
    },
    "scrolled": true
   },
   "outputs": [
    {
     "name": "stdout",
     "output_type": "stream",
     "text": [
      "(20661016, 3)\n",
      "(20661016, 3)\n"
     ]
    },
    {
     "data": {
      "text/html": [
       "<div>\n",
       "<style scoped>\n",
       "    .dataframe tbody tr th:only-of-type {\n",
       "        vertical-align: middle;\n",
       "    }\n",
       "\n",
       "    .dataframe tbody tr th {\n",
       "        vertical-align: top;\n",
       "    }\n",
       "\n",
       "    .dataframe thead th {\n",
       "        text-align: right;\n",
       "    }\n",
       "</style>\n",
       "<table border=\"1\" class=\"dataframe\">\n",
       "  <thead>\n",
       "    <tr style=\"text-align: right;\">\n",
       "      <th></th>\n",
       "      <th>pattern</th>\n",
       "      <th>ngram_type</th>\n",
       "      <th>pnns_groups_2</th>\n",
       "      <th>clean_text</th>\n",
       "    </tr>\n",
       "  </thead>\n",
       "  <tbody>\n",
       "    <tr>\n",
       "      <th>164763</th>\n",
       "      <td>C</td>\n",
       "      <td>1-grams</td>\n",
       "      <td>sweets</td>\n",
       "      <td>preparation d  de fruits ingredients  an entre beurrepectines antioxydant acide sucrede canne gelifiant pectines   jubique jus de citron concentre beurre ditions de conservation rture apres ouverture a er er au refrilaure ambiante avant overture apres dement refrigerateur a ngerateur a C et consommer rapid nutritionnelles moyen valeurs energetiques etouri nes po g portion g portion aqrportion kj kj kcal kcal anesgrasstres 碣 ー  g   mg g  g apt ll  or</td>\n",
       "    </tr>\n",
       "    <tr>\n",
       "      <th>241234</th>\n",
       "      <td>C</td>\n",
       "      <td>1-grams</td>\n",
       "      <td>cheese</td>\n",
       "      <td>camembert allat microfiltre issu de lagriculture biologique ingredients lait de vache microfiltre issu de lagriculture biologiaue  sel presure terments lactiques et datfinage chlorure de calcium informations  a consommer de preference avant le  voir sur le cote de bore a conserver entre c et C fabrique par cooperative lsiany saintemere  lsi signysurmer naleurs nutritionnellesmoyennes pour g energie wkcalsoi call lsoi  des agri  matieres grasses  g dont acides gras satures  g glucides   g dont suces gproteines  l asel   g  calcium gcalcium ucides  g dont sucres   gproteines   gsel   mg soit  des vnray valeurs nutritionnelles moyennes pour une p  g  energie  ortion de  비 k t  des aqrumatieres call lso grasses  g m glucides   g dont sucres dont acides aras satures  gproteines  gsel   g  calcium  mg soit  des vnra  gproteines  o gsel   gcalcium  mg lsoit  des apports quotidiens de reference pour un adultetype w  kcal ced paturages layaleurs nutritionnelles de reference conenan  l ce produit content environ  portions  appel gratit depuis un poste fue wwwintermarchecom poids net alemballage fr g ec ン ll w</td>\n",
       "    </tr>\n",
       "    <tr>\n",
       "      <th>387950</th>\n",
       "      <td>C</td>\n",
       "      <td>1-grams</td>\n",
       "      <td>bread</td>\n",
       "      <td>mini eader baguettes precut juste wi au four rowe iosilab achetsa fo kcal  kr k k baguettes pricultes moue net g C enformer marin grasses</td>\n",
       "    </tr>\n",
       "    <tr>\n",
       "      <th>58081</th>\n",
       "      <td>C</td>\n",
       "      <td>1-grams</td>\n",
       "      <td>sweets</td>\n",
       "      <td>miln μttoukgna cola σipom yaukoζns omow dniprimp kiypiko oco apiupatikes uaesnputikoi eaaid kpaubeaaiou μtoa ettiotpwons knpos kapvaounc xplomkri uan wouuuivio kapaueadxpwua apulo σirou mivi kpoxchoi σipomi yauxζncorou ζaxaρn vεpo ζeacrrivmxoipivou ptoo ofivionsx kitpiko otoopupiatikes uaesqutika eaaicr kpaube入aiou peod ettiotpuions knpos kapvaouβng xpuouke this koupkoupivnkapuiveseumae ttatevit vekxuaiqua ttampikas auuhe σitou min μma入es zaxapn σipom v入ukoζncoirou tomomoinuevo auuko kanaumokiouてeaarivn xcipivou μtoootivions kt pirdoco apupatires uaeswutika thaid kporubeacrou peoa ettotdwons xoipivou μeoo o knpos kapvaouβnd apaβiko koup讣ak xpwjtiresuaes koupkoupivnuttae tratevte v ekxunoug tgripl kasaveokuavivecapulo oitou utilisation service consommateurs carreour gebruik  xpnon tsa  massy cedex a conseildeconservation aconserveralabride l owensao  ncristal iiteeeod merreal la chaleur maximum c et de lhumidite  bewartip fris maximaal C en droog bewaren  carrefour product info pb  evere   bra tel   utpos enpo kai poocoo uaswoup c fabrique en france par  vervaardid in frankijk carrefour mapnomoulos ae napaokeudqetam raaaia amo mv av anumpiou  aauosaohna door i faaaia σtto tnv emb  pour  voor  ya mv pour l voor yia try tunpa eurmpemons neaatuv tuhua e cm avenue du pacifique tna     les ulisfrance g eco carrefour fri gr carrefour leu avokion cord mporiunon mpry t cle preference avant fin  ten minste lotia s  chets ne af</td>\n",
       "    </tr>\n",
       "    <tr>\n",
       "      <th>124625</th>\n",
       "      <td>C</td>\n",
       "      <td>1-grams</td>\n",
       "      <td>cheese</td>\n",
       "      <td>president le petit camembert president un plaisir simple au quotidien  petit camembert au ait de vache pasteurise fabrique en normandie ingredients lait ferments lactiques et dafinage sel valeurs nutritionnelles movennes pour  pour une portion de  valeurs energetiques  kl   kcal   kj   kcal proteines  glucides traces traces lipides l gm g naturellementric uim he en calc calcium mg mg g de petit camembert president convert   des ajr en calcium apportsjournaliers recommandes  demar dans le produit sans son humidite soit novel affichage  de mat gr dans le produit fini a conso inner de preference avant le  voir sur le cote  a conserver entre c et C   t poids net a lemballage lactalis fromagesf ges  f</td>\n",
       "    </tr>\n",
       "  </tbody>\n",
       "</table>\n",
       "</div>"
      ],
      "text/plain": [
       "       pattern ngram_type pnns_groups_2  \\\n",
       "164763       C    1-grams        sweets   \n",
       "241234       C    1-grams        cheese   \n",
       "387950       C    1-grams         bread   \n",
       "58081        C    1-grams        sweets   \n",
       "124625       C    1-grams        cheese   \n",
       "\n",
       "                                                                                                                                                                                                                                                                                                                                                                                                                                                                                                                                                                                                                                                                                                                                                                                                                                                                                                                                                                                                                                                                                                                                                                                                                                                                                                                                                                                                                                                                                               clean_text  \n",
       "164763                                                                                                                                                                                                                                                                                                                                                                                                                                                                                                                                                                                                                                                                                                                                                                                                                                                                                                                                                                                                                    preparation d  de fruits ingredients  an entre beurrepectines antioxydant acide sucrede canne gelifiant pectines   jubique jus de citron concentre beurre ditions de conservation rture apres ouverture a er er au refrilaure ambiante avant overture apres dement refrigerateur a ngerateur a C et consommer rapid nutritionnelles moyen valeurs energetiques etouri nes po g portion g portion aqrportion kj kj kcal kcal anesgrasstres 碣 ー  g   mg g  g apt ll  or            \n",
       "241234                                                                                                                                                                                                                                                                                                                                    camembert allat microfiltre issu de lagriculture biologique ingredients lait de vache microfiltre issu de lagriculture biologiaue  sel presure terments lactiques et datfinage chlorure de calcium informations  a consommer de preference avant le  voir sur le cote de bore a conserver entre c et C fabrique par cooperative lsiany saintemere  lsi signysurmer naleurs nutritionnellesmoyennes pour g energie wkcalsoi call lsoi  des agri  matieres grasses  g dont acides gras satures  g glucides   g dont suces gproteines  l asel   g  calcium gcalcium ucides  g dont sucres   gproteines   gsel   mg soit  des vnray valeurs nutritionnelles moyennes pour une p  g  energie  ortion de  비 k t  des aqrumatieres call lso grasses  g m glucides   g dont sucres dont acides aras satures  gproteines  gsel   g  calcium  mg soit  des vnra  gproteines  o gsel   gcalcium  mg lsoit  des apports quotidiens de reference pour un adultetype w  kcal ced paturages layaleurs nutritionnelles de reference conenan  l ce produit content environ  portions  appel gratit depuis un poste fue wwwintermarchecom poids net alemballage fr g ec ン ll w    \n",
       "387950                                                                                                                                                                                                                                                                                                                                                                                                                                                                                                                                                                                                                                                                                                                                                                                                                                                                                                                                                                                                                                                                                                                                                                                                                                                                                                                                                         mini eader baguettes precut juste wi au four rowe iosilab achetsa fo kcal  kr k k baguettes pricultes moue net g C enformer marin grasses   \n",
       "58081   miln μttoukgna cola σipom yaukoζns omow dniprimp kiypiko oco apiupatikes uaesnputikoi eaaid kpaubeaaiou μtoa ettiotpwons knpos kapvaounc xplomkri uan wouuuivio kapaueadxpwua apulo σirou mivi kpoxchoi σipomi yauxζncorou ζaxaρn vεpo ζeacrrivmxoipivou ptoo ofivionsx kitpiko otoopupiatikes uaesqutika eaaicr kpaube入aiou peod ettiotpuions knpos kapvaouβng xpuouke this koupkoupivnkapuiveseumae ttatevit vekxuaiqua ttampikas auuhe σitou min μma入es zaxapn σipom v入ukoζncoirou tomomoinuevo auuko kanaumokiouてeaarivn xcipivou μtoootivions kt pirdoco apupatires uaeswutika thaid kporubeacrou peoa ettotdwons xoipivou μeoo o knpos kapvaouβnd apaβiko koup讣ak xpwjtiresuaes koupkoupivnuttae tratevte v ekxunoug tgripl kasaveokuavivecapulo oitou utilisation service consommateurs carreour gebruik  xpnon tsa  massy cedex a conseildeconservation aconserveralabride l owensao  ncristal iiteeeod merreal la chaleur maximum c et de lhumidite  bewartip fris maximaal C en droog bewaren  carrefour product info pb  evere   bra tel   utpos enpo kai poocoo uaswoup c fabrique en france par  vervaardid in frankijk carrefour mapnomoulos ae napaokeudqetam raaaia amo mv av anumpiou  aauosaohna door i faaaia σtto tnv emb  pour  voor  ya mv pour l voor yia try tunpa eurmpemons neaatuv tuhua e cm avenue du pacifique tna     les ulisfrance g eco carrefour fri gr carrefour leu avokion cord mporiunon mpry t cle preference avant fin  ten minste lotia s  chets ne af   \n",
       "124625                                                                                                                                                                                                                                                                                                                                                                                                                                                                                                                                                                                                                                                                                                                                                                 president le petit camembert president un plaisir simple au quotidien  petit camembert au ait de vache pasteurise fabrique en normandie ingredients lait ferments lactiques et dafinage sel valeurs nutritionnelles movennes pour  pour une portion de  valeurs energetiques  kl   kcal   kj   kcal proteines  glucides traces traces lipides l gm g naturellementric uim he en calc calcium mg mg g de petit camembert president convert   des ajr en calcium apportsjournaliers recommandes  demar dans le produit sans son humidite soit novel affichage  de mat gr dans le produit fini a conso inner de preference avant le  voir sur le cote  a conserver entre c et C   t poids net a lemballage lactalis fromagesf ges  f   "
      ]
     },
     "execution_count": 36,
     "metadata": {},
     "output_type": "execute_result"
    }
   ],
   "source": [
    "results = []\n",
    "for index,ocr in data[\"clean_text\"].iteritems():\n",
    "    doc = nlp(ocr)\n",
    "    matches = matcher(doc)\n",
    "    results.extend([[index, nlp.vocab.strings[m_id], doc[start:end].text, m_id] for m_id, start, end in matches])\n",
    "\n",
    "results_df = pd.DataFrame(results, columns=[\"source\", \"ngram_type\", \"pattern\", \"match_id\"]).set_index(\"source\") \n",
    "print(results_df.shape)\n",
    "#results_df.drop_duplicates(inplace=True)\n",
    "print(results_df.shape)\n",
    "\n",
    "patterns_df = pd.merge(\n",
    "    data,\n",
    "    results_df,\n",
    "    left_index=True,\n",
    "    right_index=True,\n",
    ")\n",
    "\n",
    "patterns_df = patterns_df[[\"pattern\",\"ngram_type\",'pnns_groups_2','clean_text']].sort_values('pattern')\n",
    "patterns_df.head()"
   ]
  },
  {
   "cell_type": "code",
   "execution_count": 35,
   "id": "extreme-medication",
   "metadata": {
    "ExecuteTime": {
     "end_time": "2021-03-29T12:42:40.956630Z",
     "start_time": "2021-03-29T12:42:40.836029Z"
    }
   },
   "outputs": [
    {
     "data": {
      "text/html": [
       "<div>\n",
       "<style scoped>\n",
       "    .dataframe tbody tr th:only-of-type {\n",
       "        vertical-align: middle;\n",
       "    }\n",
       "\n",
       "    .dataframe tbody tr th {\n",
       "        vertical-align: top;\n",
       "    }\n",
       "\n",
       "    .dataframe thead th {\n",
       "        text-align: right;\n",
       "    }\n",
       "</style>\n",
       "<table border=\"1\" class=\"dataframe\">\n",
       "  <thead>\n",
       "    <tr style=\"text-align: right;\">\n",
       "      <th></th>\n",
       "      <th>pattern</th>\n",
       "      <th>ngram_type</th>\n",
       "      <th>pnns_groups_2</th>\n",
       "      <th>clean_text</th>\n",
       "    </tr>\n",
       "  </thead>\n",
       "  <tbody>\n",
       "    <tr>\n",
       "      <th>6702</th>\n",
       "      <td>C</td>\n",
       "      <td>1-grams</td>\n",
       "      <td>appetizers</td>\n",
       "      <td>de tournesol oeuf  flocon de morne de terre pomme de terre emulsifiant  e antioxydants  e r dacidite acide citrique eau lait peril poudres a e et e sel all sucre piment fort poivre amidon de ble une sauce aigre douce  g et une sauce nuoc mam  g errese  puree dep mentpimentsei vinaigredalcool servic e douce eau sucre vinaigre dalcool amidon modifie de n modified servic poivron rouge m eau sucre vinaigre dalcool sel nuoc mam sson sel eau sauce sola eau graine de soja set tari ede ble  exprime sur la sauce informations en gras destinees aux personnes allergiques C ce produit peut contenir des traces darachide et decre  consigne pouvan inaeuro ru tuition n a par portigu pour g  m dont g de sauce energie  kjkcal   kj kcal materes grasses g dont acidesgras sat     g ーーーーー  g g dont sucres proteines g  g    apport quotidien de reference pour un adultetype</td>\n",
       "    </tr>\n",
       "    <tr>\n",
       "      <th>428932</th>\n",
       "      <td>CC</td>\n",
       "      <td>1-grams</td>\n",
       "      <td>chocolate products</td>\n",
       "      <td>cpscord te familiar coa leche chocolate de lee familiar ari ingredients  sucre  f beurre de cacao poudre de lait ecreme   lactoserum en poudre pate de cacao  matere grasse de lait anhydre  emulsifiants  lecithine de tournesol e  arome traces de fruits a coque et de gluten cacao   minimum conservation  crant la chaleur et lhumidite temperature ideal de conservation CC ingredientes  azucar</td>\n",
       "    </tr>\n",
       "    <tr>\n",
       "      <th>36750</th>\n",
       "      <td>Cc</td>\n",
       "      <td>1-grams</td>\n",
       "      <td>chocolate products</td>\n",
       "      <td>chocolat noir a la fleur de sel sucre pate de cacao beurre de cacao emulsifiant  lecith ine de colza fleur de sel  aromes traces de gluten doeuf de fruits a coque et de lait cacao  minimum informations nutritionnelles valeurs nutritionnelles  g  care moyennes pour  energie  kj  kj  kcal  kcal matieres grasses   dont acides gras satires   g glucides   dont sucres   fibres alimentares   proteines    sel   cet emballage content  portions conserva a consommer depreference avant fin  voir cidessous a conserver a labri de la chaleur et de lhumidite temperature optimale de poids net    e conservation Cc ensemble pensez reduisons limpact et feuille metal au tri  environnemental des emballages a recycler consigne pouvant varier localement www consignesdetrifr onenend recom scamarkcs  ivrysurseine cedex a consommer de preference avant fin  l</td>\n",
       "    </tr>\n",
       "    <tr>\n",
       "      <th>57146</th>\n",
       "      <td>Cet</td>\n",
       "      <td>1-grams</td>\n",
       "      <td>salty and fatty products</td>\n",
       "      <td>olives  a la provencale carrefour denovautees のg oliesvertesteoateesomonsroresetiarisenroceax  fortes valeurs energetique we g et nutrit rnioresnorescothesdenateesseniedema crier aerate asse movennes pour stabisantigucoeledefepatcorteordesaesdepasson arendetonetat f energie  kj i preparation agiter avant down  kca temperature ambianteetacosmeraatle matieres grasses g antdefembalageapresalertre secoseresarsaregerates g eenten dont satires entre Cet glucides  g exceptonnellement subsite dont sucres  fabrique en france a partir dolives du maroc par  fibres alimentares g proteines g cmtsa  sel  g f rencristalgorbertod one   and rest ad</td>\n",
       "    </tr>\n",
       "    <tr>\n",
       "      <th>72327</th>\n",
       "      <td>TEL</td>\n",
       "      <td>1-grams</td>\n",
       "      <td>biscuits and cakes</td>\n",
       "      <td>an なtamara de ter anaar en fins depuis  ingredientaximage sucre graines de soja haricots blans ea  proportions variables grasses de palme stop de  amande poudre a un savoirfaire familial depuis  generations e arome suggestion de degustation  rechauffez votre maxi galette ele nen sera que plus savoureuse  secondes au micro ondes ou  tions palmtat apricot kemels salt thickener e e citre fibre tan secondes all four traditionnel acidulant e vitamin a d emulsifier e wheat flour oils palm colza in changing proportions palmtat glucose mindestens hailbar bis  da consumarsi preferabilmente entro i eg  almond raising agent e e e salt preservative elg acidulant e vitamin cad emulsifiere consumir preferentemente antes del  ten minste houdbaar ea wheatstarch flavoring zutaten   fillung ricker soatoinen weibe bohnen wasser facht modifizerte karton  ar  g weiz zado e dextrosa aimidon modificadodipatataacertesvegetalspa en proporciones variables grass depalma apport joumalier de reference pour un adulte type kv cate eso vegetates dalma coba en proporcones  kcal ce sachet content  gateau de g ingredient  nempmento lacchero semi di adegister rapidement apres ouverture acidificate informationallergenes atelier qui utisedes fusacueetdes produits demo ificante e vitamina a da er e  farina di frumento zucchero olio vio in polveree ee saleconservanteenronash grano carella acidficante e vitamina a  vitaminan d emulsionate tem  odificeerd aaldanaczenpitten zout verdikkingsnares iekeedextreshadingerypadingszuurenalin raar mwsselende vfmsri  eneidooier  ar tarweblem sl hollande zoutconserv biscuiterie TEL    wwwbiscuite rieertecom tot</td>\n",
       "    </tr>\n",
       "    <tr>\n",
       "      <th>402804</th>\n",
       "      <td>TEL conserver</td>\n",
       "      <td>2-grams</td>\n",
       "      <td>sweets</td>\n",
       "      <td>a consomme de confiture extra de myrtles ingredients  myrtles sucre sirop de fabrique en france auchan prodi glucosefructose aelifiant pectine pour acidifiant  acide citrique prepare service clien uchan avec g de fruits pour g teneur groupealana totale en suces g po ur    villeneuve sovilleneuvo conseil de conserv onseil de conservation  a TEL conserver au frais apres ouverture valeurs nutr nutritio ltonnelles moyennes pour kcaleroenergetique   klsoit g  val eur en gdor proteins g glucides  ca g dont sucres su sucres g lipides  dont acides grassaturedium    fibres alimentaire  sodium equivalent en sel   alent enseg sodium   poids net  g e de a</td>\n",
       "    </tr>\n",
       "    <tr>\n",
       "      <th>76199</th>\n",
       "      <td>aC</td>\n",
       "      <td>1-grams</td>\n",
       "      <td>one dish meals</td>\n",
       "      <td>aes es boulognesurmeir coquille de poisson saveurs cote dopale ingredients  lait uht demiecreme poisson blanc   creme epaise creme eposse lait carottes  fanne de ble margarine huiles et graisses vegetales polreaux   vin blanc emmental lait oignons sel et poivre valeur energetique   kcal   ki matieres grasses   gocides gras satures   g glades  g suces g proteines   g sel   g remise en temperature  pour une coquille a letat surgele au four traditionnel  prechauffer le fours minutes o cth metre les coquilles au four pendant environ  min au microondes  minutes a  w conservation  dans votre congelateur aC jusqua la date indiquee sur letiquette  iours dans le compartimenta glace de votre refrigerateur  h dans votre refrigerateur ct ne jamais recongeler    un produitdecongele surgele  service consommateurs  jacques maes sasp boulognesurmer let  a consommer de preference avant fin  ll</td>\n",
       "    </tr>\n",
       "    <tr>\n",
       "      <th>76199</th>\n",
       "      <td>aC jusqua</td>\n",
       "      <td>2-grams</td>\n",
       "      <td>one dish meals</td>\n",
       "      <td>aes es boulognesurmeir coquille de poisson saveurs cote dopale ingredients  lait uht demiecreme poisson blanc   creme epaise creme eposse lait carottes  fanne de ble margarine huiles et graisses vegetales polreaux   vin blanc emmental lait oignons sel et poivre valeur energetique   kcal   ki matieres grasses   gocides gras satures   g glades  g suces g proteines   g sel   g remise en temperature  pour une coquille a letat surgele au four traditionnel  prechauffer le fours minutes o cth metre les coquilles au four pendant environ  min au microondes  minutes a  w conservation  dans votre congelateur aC jusqua la date indiquee sur letiquette  iours dans le compartimenta glace de votre refrigerateur  h dans votre refrigerateur ct ne jamais recongeler    un produitdecongele surgele  service consommateurs  jacques maes sasp boulognesurmer let  a consommer de preference avant fin  ll</td>\n",
       "    </tr>\n",
       "    <tr>\n",
       "      <th>84</th>\n",
       "      <td>aa</td>\n",
       "      <td>1-grams</td>\n",
       "      <td>cheese</td>\n",
       "      <td>sevre  m emballage net belle g laiterie fromage de chevre chevrot au lait cru moule a la louche animaut sans ogm  e e aa a consommer de preference avant le nourri hde de</td>\n",
       "    </tr>\n",
       "    <tr>\n",
       "      <th>4185</th>\n",
       "      <td>aa consommer</td>\n",
       "      <td>2-grams</td>\n",
       "      <td>processed meat</td>\n",
       "      <td>grand juny cervelas purforc qualite superieure le porc francais cervelas supeneur ingredients viande de eur nit eau sel dextrose faabrique en fce a partir de viande de dorigine pil aromes natuurcls deovre et de porc muscade antioxyd nce nutritio valeurs moyennes pour  de sodiumtient  portionereidsseso ion boyau non   proteines mation cer aa consommer jusa de o yoi sur embal glucides   gdont et ca mconser erateur et a consom come</td>\n",
       "    </tr>\n",
       "  </tbody>\n",
       "</table>\n",
       "</div>"
      ],
      "text/plain": [
       "              pattern ngram_type             pnns_groups_2  \\\n",
       "6702                C    1-grams                appetizers   \n",
       "428932             CC    1-grams        chocolate products   \n",
       "36750              Cc    1-grams        chocolate products   \n",
       "57146             Cet    1-grams  salty and fatty products   \n",
       "72327             TEL    1-grams        biscuits and cakes   \n",
       "402804  TEL conserver    2-grams                    sweets   \n",
       "76199              aC    1-grams            one dish meals   \n",
       "76199       aC jusqua    2-grams            one dish meals   \n",
       "84                 aa    1-grams                    cheese   \n",
       "4185     aa consommer    2-grams            processed meat   \n",
       "\n",
       "                                                                                                                                                                                                                                                                                                                                                                                                                                                                                                                                                                                                                                                                                                                                                                                                                                                                                                                                                                                                                                                                                                                                                                                                                                                                                                                                                                                                                                                                                                                                                                                                                                                                                                  clean_text  \n",
       "6702                                                                                                                                                                                                                                                                                                                                                                                                                                                                                                                                                                                                                                                                                                                                                                                                          de tournesol oeuf  flocon de morne de terre pomme de terre emulsifiant  e antioxydants  e r dacidite acide citrique eau lait peril poudres a e et e sel all sucre piment fort poivre amidon de ble une sauce aigre douce  g et une sauce nuoc mam  g errese  puree dep mentpimentsei vinaigredalcool servic e douce eau sucre vinaigre dalcool amidon modifie de n modified servic poivron rouge m eau sucre vinaigre dalcool sel nuoc mam sson sel eau sauce sola eau graine de soja set tari ede ble  exprime sur la sauce informations en gras destinees aux personnes allergiques C ce produit peut contenir des traces darachide et decre  consigne pouvan inaeuro ru tuition n a par portigu pour g  m dont g de sauce energie  kjkcal   kj kcal materes grasses g dont acidesgras sat     g ーーーーー  g g dont sucres proteines g  g    apport quotidien de reference pour un adultetype    \n",
       "428932                                                                                                                                                                                                                                                                                                                                                                                                                                                                                                                                                                                                                                                                                                                                                                                                                                                                                                                                                                                                                                                                                                                                                                                                                                                                                              cpscord te familiar coa leche chocolate de lee familiar ari ingredients  sucre  f beurre de cacao poudre de lait ecreme   lactoserum en poudre pate de cacao  matere grasse de lait anhydre  emulsifiants  lecithine de tournesol e  arome traces de fruits a coque et de gluten cacao   minimum conservation  crant la chaleur et lhumidite temperature ideal de conservation CC ingredientes  azucar    \n",
       "36750                                                                                                                                                                                                                                                                                                                                                                                                                                                                                                                                                                                                                                                                                                                                                                                                                          chocolat noir a la fleur de sel sucre pate de cacao beurre de cacao emulsifiant  lecith ine de colza fleur de sel  aromes traces de gluten doeuf de fruits a coque et de lait cacao  minimum informations nutritionnelles valeurs nutritionnelles  g  care moyennes pour  energie  kj  kj  kcal  kcal matieres grasses   dont acides gras satires   g glucides   dont sucres   fibres alimentares   proteines    sel   cet emballage content  portions conserva a consommer depreference avant fin  voir cidessous a conserver a labri de la chaleur et de lhumidite temperature optimale de poids net    e conservation Cc ensemble pensez reduisons limpact et feuille metal au tri  environnemental des emballages a recycler consigne pouvant varier localement www consignesdetrifr onenend recom scamarkcs  ivrysurseine cedex a consommer de preference avant fin  l    \n",
       "57146                                                                                                                                                                                                                                                                                                                                                                                                                                                                                                                                                                                                                                                                                                                                                                                                                                                                                                                                                                                                                                      olives  a la provencale carrefour denovautees のg oliesvertesteoateesomonsroresetiarisenroceax  fortes valeurs energetique we g et nutrit rnioresnorescothesdenateesseniedema crier aerate asse movennes pour stabisantigucoeledefepatcorteordesaesdepasson arendetonetat f energie  kj i preparation agiter avant down  kca temperature ambianteetacosmeraatle matieres grasses g antdefembalageapresalertre secoseresarsaregerates g eenten dont satires entre Cet glucides  g exceptonnellement subsite dont sucres  fabrique en france a partir dolives du maroc par  fibres alimentares g proteines g cmtsa  sel  g f rencristalgorbertod one   and rest ad    \n",
       "72327   an なtamara de ter anaar en fins depuis  ingredientaximage sucre graines de soja haricots blans ea  proportions variables grasses de palme stop de  amande poudre a un savoirfaire familial depuis  generations e arome suggestion de degustation  rechauffez votre maxi galette ele nen sera que plus savoureuse  secondes au micro ondes ou  tions palmtat apricot kemels salt thickener e e citre fibre tan secondes all four traditionnel acidulant e vitamin a d emulsifier e wheat flour oils palm colza in changing proportions palmtat glucose mindestens hailbar bis  da consumarsi preferabilmente entro i eg  almond raising agent e e e salt preservative elg acidulant e vitamin cad emulsifiere consumir preferentemente antes del  ten minste houdbaar ea wheatstarch flavoring zutaten   fillung ricker soatoinen weibe bohnen wasser facht modifizerte karton  ar  g weiz zado e dextrosa aimidon modificadodipatataacertesvegetalspa en proporciones variables grass depalma apport joumalier de reference pour un adulte type kv cate eso vegetates dalma coba en proporcones  kcal ce sachet content  gateau de g ingredient  nempmento lacchero semi di adegister rapidement apres ouverture acidificate informationallergenes atelier qui utisedes fusacueetdes produits demo ificante e vitamina a da er e  farina di frumento zucchero olio vio in polveree ee saleconservanteenronash grano carella acidficante e vitamina a  vitaminan d emulsionate tem  odificeerd aaldanaczenpitten zout verdikkingsnares iekeedextreshadingerypadingszuurenalin raar mwsselende vfmsri  eneidooier  ar tarweblem sl hollande zoutconserv biscuiterie TEL    wwwbiscuite rieertecom tot   \n",
       "402804                                                                                                                                                                                                                                                                                                                                                                                                                                                                                                                                                                                                                                                                                                                                                                                                                                                                                                                                                                                                                          a consomme de confiture extra de myrtles ingredients  myrtles sucre sirop de fabrique en france auchan prodi glucosefructose aelifiant pectine pour acidifiant  acide citrique prepare service clien uchan avec g de fruits pour g teneur groupealana totale en suces g po ur    villeneuve sovilleneuvo conseil de conserv onseil de conservation  a TEL conserver au frais apres ouverture valeurs nutr nutritio ltonnelles moyennes pour kcaleroenergetique   klsoit g  val eur en gdor proteins g glucides  ca g dont sucres su sucres g lipides  dont acides grassaturedium    fibres alimentaire  sodium equivalent en sel   alent enseg sodium   poids net  g e de a   \n",
       "76199                                                                                                                                                                                                                                                                                                                                                                                                                                                                                                                                                                                                                                                                                                                                                                            aes es boulognesurmeir coquille de poisson saveurs cote dopale ingredients  lait uht demiecreme poisson blanc   creme epaise creme eposse lait carottes  fanne de ble margarine huiles et graisses vegetales polreaux   vin blanc emmental lait oignons sel et poivre valeur energetique   kcal   ki matieres grasses   gocides gras satures   g glades  g suces g proteines   g sel   g remise en temperature  pour une coquille a letat surgele au four traditionnel  prechauffer le fours minutes o cth metre les coquilles au four pendant environ  min au microondes  minutes a  w conservation  dans votre congelateur aC jusqua la date indiquee sur letiquette  iours dans le compartimenta glace de votre refrigerateur  h dans votre refrigerateur ct ne jamais recongeler    un produitdecongele surgele  service consommateurs  jacques maes sasp boulognesurmer let  a consommer de preference avant fin  ll    \n",
       "76199                                                                                                                                                                                                                                                                                                                                                                                                                                                                                                                                                                                                                                                                                                                                                                            aes es boulognesurmeir coquille de poisson saveurs cote dopale ingredients  lait uht demiecreme poisson blanc   creme epaise creme eposse lait carottes  fanne de ble margarine huiles et graisses vegetales polreaux   vin blanc emmental lait oignons sel et poivre valeur energetique   kcal   ki matieres grasses   gocides gras satures   g glades  g suces g proteines   g sel   g remise en temperature  pour une coquille a letat surgele au four traditionnel  prechauffer le fours minutes o cth metre les coquilles au four pendant environ  min au microondes  minutes a  w conservation  dans votre congelateur aC jusqua la date indiquee sur letiquette  iours dans le compartimenta glace de votre refrigerateur  h dans votre refrigerateur ct ne jamais recongeler    un produitdecongele surgele  service consommateurs  jacques maes sasp boulognesurmer let  a consommer de preference avant fin  ll    \n",
       "84                                                                                                                                                                                                                                                                                                                                                                                                                                                                                                                                                                                                                                                                                                                                                                                                                                                                                                                                                                                                                                                                                                                                                                                                                                                                                                                                                                                                                                                                                                                                sevre  m emballage net belle g laiterie fromage de chevre chevrot au lait cru moule a la louche animaut sans ogm  e e aa a consommer de preference avant le nourri hde de   \n",
       "4185                                                                                                                                                                                                                                                                                                                                                                                                                                                                                                                                                                                                                                                                                                                                                                                                                                                                                                                                                                                                                                                                                                                                                                                                                                                       grand juny cervelas purforc qualite superieure le porc francais cervelas supeneur ingredients viande de eur nit eau sel dextrose faabrique en fce a partir de viande de dorigine pil aromes natuurcls deovre et de porc muscade antioxyd nce nutritio valeurs moyennes pour  de sodiumtient  portionereidsseso ion boyau non   proteines mation cer aa consommer jusa de o yoi sur embal glucides   gdont et ca mconser erateur et a consom come   "
      ]
     },
     "execution_count": 35,
     "metadata": {},
     "output_type": "execute_result"
    }
   ],
   "source": [
    "patterns_df.sort_values(by='pattern').head(10)"
   ]
  },
  {
   "cell_type": "code",
   "execution_count": 38,
   "id": "settled-tenant",
   "metadata": {
    "ExecuteTime": {
     "end_time": "2021-03-28T22:49:53.989919Z",
     "start_time": "2021-03-28T22:49:53.986109Z"
    }
   },
   "outputs": [
    {
     "data": {
      "text/plain": [
       "(19449931, 3)"
      ]
     },
     "execution_count": 38,
     "metadata": {},
     "output_type": "execute_result"
    }
   ],
   "source": [
    "patterns_df.shape"
   ]
  },
  {
   "cell_type": "code",
   "execution_count": null,
   "id": "external-regard",
   "metadata": {},
   "outputs": [],
   "source": [
    "# Group by pattern and count values of categories\n",
    "occ_df = patterns_df.groupby('pattern').pnns_groups_2.value_counts().reset_index(name='occurencies')\n",
    "\n",
    "# Convert to columns\n",
    "occ_df = occ_df.pivot(index='pattern', columns='pnns_groups_2')['occurencies']"
   ]
  },
  {
   "cell_type": "code",
   "execution_count": null,
   "id": "outdoor-camcorder",
   "metadata": {},
   "outputs": [],
   "source": [
    "# Fill nan with 0\n",
    "occ_df.fillna(0, inplace=True)"
   ]
  },
  {
   "cell_type": "code",
   "execution_count": null,
   "id": "continental-ecology",
   "metadata": {},
   "outputs": [],
   "source": [
    "# Count Global occurencies\n",
    "occ['global_occ'] = patterns_df.pattern.value_counts()"
   ]
  },
  {
   "cell_type": "code",
   "execution_count": null,
   "id": "primary-pillow",
   "metadata": {},
   "outputs": [],
   "source": [
    "occ.sample(10)"
   ]
  },
  {
   "cell_type": "markdown",
   "id": "isolated-details",
   "metadata": {},
   "source": [
    "# Test"
   ]
  },
  {
   "cell_type": "code",
   "execution_count": 38,
   "id": "ongoing-brunswick",
   "metadata": {
    "ExecuteTime": {
     "end_time": "2021-03-29T15:20:34.670604Z",
     "start_time": "2021-03-29T15:20:28.728239Z"
    }
   },
   "outputs": [],
   "source": [
    "# Load the whole clean dataset\n",
    "file ='../raw_data/ocr_labeled.csv'\n",
    "off_df_base = pd.read_csv(file)"
   ]
  },
  {
   "cell_type": "code",
   "execution_count": 39,
   "id": "sunrise-transport",
   "metadata": {
    "ExecuteTime": {
     "end_time": "2021-03-29T15:21:02.847462Z",
     "start_time": "2021-03-29T15:21:01.927593Z"
    }
   },
   "outputs": [],
   "source": [
    "# Deep copy of the dataframe to avoid to reload it\n",
    "df = off_df_base.copy()  # Renew the DataFrame"
   ]
  },
  {
   "cell_type": "code",
   "execution_count": 41,
   "id": "colonial-edinburgh",
   "metadata": {
    "ExecuteTime": {
     "end_time": "2021-03-29T15:21:25.349432Z",
     "start_time": "2021-03-29T15:21:25.342455Z"
    }
   },
   "outputs": [],
   "source": [
    "from tqdm import tqdm"
   ]
  },
  {
   "cell_type": "code",
   "execution_count": 43,
   "id": "agricultural-andrews",
   "metadata": {
    "ExecuteTime": {
     "end_time": "2021-03-29T15:21:48.265026Z",
     "start_time": "2021-03-29T15:21:48.192483Z"
    }
   },
   "outputs": [],
   "source": [
    "def get_ngrams(ocr, gram_size=1):    \n",
    "    # convert ocr to list\n",
    "    words = ocr.split()\n",
    "    \n",
    "    # extract n_grams\n",
    "    patterns = list(nltk.ngrams(words, gram_size))\n",
    "    \n",
    "    # return n_grams strings instead of tuples              \n",
    "    if gram_size == 1:\n",
    "        n_grams = [p[0] for p in patterns]\n",
    "    else: n_grams = [\n",
    "                    ' '.join(p[i] for i in range(len(p))) \\\n",
    "                    for p in patterns\n",
    "                    ]    \n",
    "\n",
    "    # return gram_size and list of n_grams\n",
    "    return (gram_size, n_grams)\n",
    "\n",
    "\n",
    "#df['patterns'] = df.clean_text.head(2).apply(lambda x: get_ngrams(x, gram_size=1))"
   ]
  },
  {
   "cell_type": "code",
   "execution_count": 45,
   "id": "defensive-police",
   "metadata": {
    "ExecuteTime": {
     "end_time": "2021-03-29T15:22:12.671545Z",
     "start_time": "2021-03-29T15:22:10.127240Z"
    }
   },
   "outputs": [],
   "source": [
    "import nltk"
   ]
  },
  {
   "cell_type": "code",
   "execution_count": 57,
   "id": "orange-persian",
   "metadata": {
    "ExecuteTime": {
     "end_time": "2021-03-29T15:29:32.720656Z",
     "start_time": "2021-03-29T15:29:32.295005Z"
    }
   },
   "outputs": [
    {
     "name": "stderr",
     "output_type": "stream",
     "text": [
      "100%|██████████| 2/2 [00:00<00:00, 23.96it/s]"
     ]
    },
    {
     "name": "stdout",
     "output_type": "stream",
     "text": [
      "0                      ne\n",
      "1                   eleve\n",
      "2                  abattu\n",
      "3                      en\n",
      "4                bretagne\n",
      "              ...        \n",
      "125                     a\n",
      "126                    au\n",
      "127                  trit\n",
      "128                  aste\n",
      "129    wwwconsignesdetrfr\n",
      "Length: 130, dtype: object\n",
      "(130, 3)\n",
      "0          ker\n",
      "1        chant\n",
      "2        local\n",
      "3     decoupes\n",
      "4           de\n",
      "        ...   \n",
      "57         loc\n",
      "58    bretagne\n",
      "59    lanfains\n",
      "60      autrit\n",
      "61        pens\n",
      "Length: 62, dtype: object\n",
      "(130, 3)\n"
     ]
    },
    {
     "name": "stderr",
     "output_type": "stream",
     "text": [
      "\n"
     ]
    }
   ],
   "source": [
    "# Initialize a DataFrame\n",
    "patterns_df = pd.DataFrame(columns=['index', 'size', 'pattern'])\n",
    "\n",
    "# Iterate over each OCR\n",
    "for i,text in tqdm(df['clean_text'].head(2).iteritems(), total=df.head(2).shape[0]):\n",
    "    # Initialize a vocab length\n",
    "    len_vocab = 0\n",
    "\n",
    "    # Iterate over each n_gram size\n",
    "    for k in range(1):\n",
    "        results = get_ngrams(text, gram_size=k+1)  # extract n_grams\n",
    "        print(pd.Series(results[1]))\n",
    "        patterns_df['pattern'] = pd.Series(results[1])  # store them in patterns_df\n",
    "        print(patterns_df.shape)\n",
    "        len_vocab = len_vocab + len(results[1])    # store number of patterns\n",
    "        patterns_df['size'] = pd.Series([f'{k+1}-grams']) * len(results[1]) # store size\n",
    "    patterns_df['index'] = pd.Series([i] * len_vocab)"
   ]
  },
  {
   "cell_type": "code",
   "execution_count": 58,
   "id": "alpine-trigger",
   "metadata": {
    "ExecuteTime": {
     "end_time": "2021-03-29T15:29:37.026314Z",
     "start_time": "2021-03-29T15:29:36.852313Z"
    }
   },
   "outputs": [
    {
     "data": {
      "text/html": [
       "<div>\n",
       "<style scoped>\n",
       "    .dataframe tbody tr th:only-of-type {\n",
       "        vertical-align: middle;\n",
       "    }\n",
       "\n",
       "    .dataframe tbody tr th {\n",
       "        vertical-align: top;\n",
       "    }\n",
       "\n",
       "    .dataframe thead th {\n",
       "        text-align: right;\n",
       "    }\n",
       "</style>\n",
       "<table border=\"1\" class=\"dataframe\">\n",
       "  <thead>\n",
       "    <tr style=\"text-align: right;\">\n",
       "      <th></th>\n",
       "      <th>index</th>\n",
       "      <th>size</th>\n",
       "      <th>pattern</th>\n",
       "    </tr>\n",
       "  </thead>\n",
       "  <tbody>\n",
       "    <tr>\n",
       "      <th>0</th>\n",
       "      <td>1.0</td>\n",
       "      <td>1-grams1-grams1-grams1-grams1-grams1-grams1-grams1-grams1-grams1-grams1-grams1-grams1-grams1-grams1-grams1-grams1-grams1-grams1-grams1-grams1-grams1-grams1-grams1-grams1-grams1-grams1-grams1-grams1-grams1-grams1-grams1-grams1-grams1-grams1-grams1-grams1-grams1-grams1-grams1-grams1-grams1-grams1-grams1-grams1-grams1-grams1-grams1-grams1-grams1-grams1-grams1-grams1-grams1-grams1-grams1-grams1-grams1-grams1-grams1-grams1-grams1-grams</td>\n",
       "      <td>ker</td>\n",
       "    </tr>\n",
       "    <tr>\n",
       "      <th>1</th>\n",
       "      <td>1.0</td>\n",
       "      <td>NaN</td>\n",
       "      <td>chant</td>\n",
       "    </tr>\n",
       "    <tr>\n",
       "      <th>2</th>\n",
       "      <td>1.0</td>\n",
       "      <td>NaN</td>\n",
       "      <td>local</td>\n",
       "    </tr>\n",
       "    <tr>\n",
       "      <th>3</th>\n",
       "      <td>1.0</td>\n",
       "      <td>NaN</td>\n",
       "      <td>decoupes</td>\n",
       "    </tr>\n",
       "    <tr>\n",
       "      <th>4</th>\n",
       "      <td>1.0</td>\n",
       "      <td>NaN</td>\n",
       "      <td>de</td>\n",
       "    </tr>\n",
       "  </tbody>\n",
       "</table>\n",
       "</div>"
      ],
      "text/plain": [
       "   index  \\\n",
       "0    1.0   \n",
       "1    1.0   \n",
       "2    1.0   \n",
       "3    1.0   \n",
       "4    1.0   \n",
       "\n",
       "                                                                                                                                                                                                                                                                                                                                                                                                                                                 size  \\\n",
       "0  1-grams1-grams1-grams1-grams1-grams1-grams1-grams1-grams1-grams1-grams1-grams1-grams1-grams1-grams1-grams1-grams1-grams1-grams1-grams1-grams1-grams1-grams1-grams1-grams1-grams1-grams1-grams1-grams1-grams1-grams1-grams1-grams1-grams1-grams1-grams1-grams1-grams1-grams1-grams1-grams1-grams1-grams1-grams1-grams1-grams1-grams1-grams1-grams1-grams1-grams1-grams1-grams1-grams1-grams1-grams1-grams1-grams1-grams1-grams1-grams1-grams1-grams   \n",
       "1                                                                                                                                                                                                                                                                                                                                                                                                                                                 NaN   \n",
       "2                                                                                                                                                                                                                                                                                                                                                                                                                                                 NaN   \n",
       "3                                                                                                                                                                                                                                                                                                                                                                                                                                                 NaN   \n",
       "4                                                                                                                                                                                                                                                                                                                                                                                                                                                 NaN   \n",
       "\n",
       "    pattern  \n",
       "0       ker  \n",
       "1     chant  \n",
       "2     local  \n",
       "3  decoupes  \n",
       "4        de  "
      ]
     },
     "execution_count": 58,
     "metadata": {},
     "output_type": "execute_result"
    }
   ],
   "source": [
    "patterns_df.head()"
   ]
  },
  {
   "cell_type": "code",
   "execution_count": 53,
   "id": "fabulous-basic",
   "metadata": {
    "ExecuteTime": {
     "end_time": "2021-03-29T15:27:08.167691Z",
     "start_time": "2021-03-29T15:27:08.124407Z"
    }
   },
   "outputs": [
    {
     "data": {
      "text/plain": [
       "0    ne eleve abattu en bretagne les eleveurs de bretagne decoupe de podlet noir ferfier labe caracteristiques certifiees fermiereleve en plein air duree delevage  jours minimum  de cereales alimente avec  de vegetaux mineraux et vitamines do mation  voir etiquette poidsprix a conserver entre oc et c a consommer cuit a caeurdate limite de co  le rheu certifie par certisimmeuble le millepertuis les landes dap produit frais classe a pour toute reclamation sadresser a fermiers dargoat bp ploufragan decoupe et conditionne par ldc bretagne bp  quintin homologation n la   ce  abattoir agree nfr  ce fltplt ferlr sat elbretpf  origine france yo volaise prixtrg poids net prix a payer kg lot    r consommer jusqu au r conserver entre o c et  c  expedie le  loc bretagne  lanfains  e a   au trit aste wwwconsignesdetrfr \n",
       "1                                                                                                                                                                                                                                                                                                                                                                                                                                                         ker chant  local decoupes de poulet conditionne par ldc bretagne lanfains   rais classe a origine france prodtre  et c offre speciale ne eleve prepare  local dans notre region cuisdej plt sat kerchant fx  origine france volaille francaise prixkg paids net prin apayer kg to  a consommer jusqu au  r conserver entre d c et  c expedie le loc bretagne  lanfains   autrit pens    \n",
       "Name: clean_text, dtype: object"
      ]
     },
     "execution_count": 53,
     "metadata": {},
     "output_type": "execute_result"
    }
   ],
   "source": [
    "df['clean_text'].head(2)"
   ]
  },
  {
   "cell_type": "code",
   "execution_count": null,
   "id": "medical-ribbon",
   "metadata": {},
   "outputs": [],
   "source": []
  }
 ],
 "metadata": {
  "kernelspec": {
   "display_name": "Python 3",
   "language": "python",
   "name": "python3"
  },
  "language_info": {
   "codemirror_mode": {
    "name": "ipython",
    "version": 3
   },
   "file_extension": ".py",
   "mimetype": "text/x-python",
   "name": "python",
   "nbconvert_exporter": "python",
   "pygments_lexer": "ipython3",
   "version": "3.8.6"
  },
  "toc": {
   "base_numbering": 1,
   "nav_menu": {},
   "number_sections": true,
   "sideBar": true,
   "skip_h1_title": false,
   "title_cell": "Table of Contents",
   "title_sidebar": "Contents",
   "toc_cell": false,
   "toc_position": {},
   "toc_section_display": true,
   "toc_window_display": false
  },
  "varInspector": {
   "cols": {
    "lenName": 16,
    "lenType": 16,
    "lenVar": 40
   },
   "kernels_config": {
    "python": {
     "delete_cmd_postfix": "",
     "delete_cmd_prefix": "del ",
     "library": "var_list.py",
     "varRefreshCmd": "print(var_dic_list())"
    },
    "r": {
     "delete_cmd_postfix": ") ",
     "delete_cmd_prefix": "rm(",
     "library": "var_list.r",
     "varRefreshCmd": "cat(var_dic_list()) "
    }
   },
   "types_to_exclude": [
    "module",
    "function",
    "builtin_function_or_method",
    "instance",
    "_Feature"
   ],
   "window_display": false
  }
 },
 "nbformat": 4,
 "nbformat_minor": 5
}
