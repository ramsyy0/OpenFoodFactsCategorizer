{
 "cells": [
  {
   "cell_type": "markdown",
   "id": "disabled-receptor",
   "metadata": {},
   "source": [
    "# Test predictor.py"
   ]
  },
  {
   "cell_type": "markdown",
   "id": "directed-reminder",
   "metadata": {},
   "source": [
    "Test predictor as coded in the python package"
   ]
  },
  {
   "cell_type": "code",
   "execution_count": 1,
   "id": "celtic-bundle",
   "metadata": {},
   "outputs": [],
   "source": [
    "import pandas as pd\n",
    "import numpy as np\n",
    "import sys\n",
    "import os"
   ]
  },
  {
   "cell_type": "code",
   "execution_count": 2,
   "id": "medium-belief",
   "metadata": {},
   "outputs": [],
   "source": [
    "nb_dir = os.path.dirname(os.path.dirname(os.path.abspath('__file__')))\n",
    "#if module_path not in sys.path:\n",
    "    #sys.path.append(module_path+\"\\\\OpenFoodFactsCategorizer\")\n",
    "if nb_dir not in sys.path:\n",
    "    sys.path.append(nb_dir)\n",
    "from OpenFoodFactsCategorizer import data, encoders, trainer, cleaner, predictor\n",
    "\n"
   ]
  },
  {
   "cell_type": "markdown",
   "id": "handled-browse",
   "metadata": {},
   "source": [
    "To test predictor.py in a notebook you have to change the path of the model, depending on is location from the notebook (add ../ in my case)"
   ]
  },
  {
   "cell_type": "code",
   "execution_count": 3,
   "id": "controlling-franklin",
   "metadata": {
    "scrolled": true
   },
   "outputs": [],
   "source": [
    "pred = predictor.Predictor(text=predictor.Predictor.text)\n",
    "pred.load_model()\n",
    "\n"
   ]
  },
  {
   "cell_type": "code",
   "execution_count": 4,
   "id": "burning-supply",
   "metadata": {},
   "outputs": [
    {
     "name": "stdout",
     "output_type": "stream",
     "text": [
      "salty and fatty products\n"
     ]
    }
   ],
   "source": [
    "print(pred.predict(threshold=0.012))"
   ]
  },
  {
   "cell_type": "markdown",
   "id": "continuous-permission",
   "metadata": {},
   "source": [
    "# Test Predictor.py with decomposed steps "
   ]
  },
  {
   "cell_type": "markdown",
   "id": "piano-healing",
   "metadata": {},
   "source": [
    "Test of a modified predictor.py to make the steps appear in the notebook (with call of the other classes)"
   ]
  },
  {
   "cell_type": "code",
   "execution_count": 5,
   "id": "respective-folks",
   "metadata": {},
   "outputs": [],
   "source": [
    "text = data.get_data_from_ocr('https://static.openfoodfacts.org/images/products/00390804/1.json')"
   ]
  },
  {
   "cell_type": "code",
   "execution_count": 6,
   "id": "oriental-medication",
   "metadata": {},
   "outputs": [],
   "source": [
    "clean = cleaner.Cleaner()"
   ]
  },
  {
   "cell_type": "code",
   "execution_count": 7,
   "id": "prostate-cleveland",
   "metadata": {},
   "outputs": [],
   "source": [
    "text = clean.clean_ocr_text(text=text, spellcheck=None)"
   ]
  },
  {
   "cell_type": "code",
   "execution_count": 8,
   "id": "quantitative-seminar",
   "metadata": {},
   "outputs": [
    {
     "data": {
      "text/plain": [
       "'seeded houmous by sainsbury s vegan keep refrigerated serves per pot use by fat saturates sugars salt energy k kcal g g g g mar hl e of the reference intakes typical values per g energy kj kcal'"
      ]
     },
     "execution_count": 8,
     "metadata": {},
     "output_type": "execute_result"
    }
   ],
   "source": [
    "text"
   ]
  },
  {
   "cell_type": "code",
   "execution_count": 10,
   "id": "alternative-following",
   "metadata": {},
   "outputs": [],
   "source": [
    "pred = predictor.Predictor(text=text)"
   ]
  },
  {
   "cell_type": "code",
   "execution_count": 11,
   "id": "orange-rescue",
   "metadata": {},
   "outputs": [],
   "source": [
    "pred.load_model()"
   ]
  },
  {
   "cell_type": "code",
   "execution_count": 12,
   "id": "specific-inside",
   "metadata": {},
   "outputs": [
    {
     "data": {
      "text/plain": [
       "'salty and fatty products'"
      ]
     },
     "execution_count": 12,
     "metadata": {},
     "output_type": "execute_result"
    }
   ],
   "source": [
    "pred.predict(threshold=0.012)"
   ]
  },
  {
   "cell_type": "code",
   "execution_count": null,
   "id": "established-electron",
   "metadata": {},
   "outputs": [],
   "source": []
  }
 ],
 "metadata": {
  "kernelspec": {
   "display_name": "Python 3",
   "language": "python",
   "name": "python3"
  },
  "language_info": {
   "codemirror_mode": {
    "name": "ipython",
    "version": 3
   },
   "file_extension": ".py",
   "mimetype": "text/x-python",
   "name": "python",
   "nbconvert_exporter": "python",
   "pygments_lexer": "ipython3",
   "version": "3.8.6"
  },
  "latex_envs": {
   "LaTeX_envs_menu_present": true,
   "autoclose": false,
   "autocomplete": true,
   "bibliofile": "biblio.bib",
   "cite_by": "apalike",
   "current_citInitial": 1,
   "eqLabelWithNumbers": true,
   "eqNumInitial": 1,
   "hotkeys": {
    "equation": "Ctrl-E",
    "itemize": "Ctrl-I"
   },
   "labels_anchors": false,
   "latex_user_defs": false,
   "report_style_numbering": false,
   "user_envs_cfg": false
  },
  "toc": {
   "base_numbering": 1,
   "nav_menu": {},
   "number_sections": true,
   "sideBar": true,
   "skip_h1_title": false,
   "title_cell": "Table of Contents",
   "title_sidebar": "Contents",
   "toc_cell": false,
   "toc_position": {},
   "toc_section_display": true,
   "toc_window_display": false
  },
  "varInspector": {
   "cols": {
    "lenName": 16,
    "lenType": 16,
    "lenVar": 40
   },
   "kernels_config": {
    "python": {
     "delete_cmd_postfix": "",
     "delete_cmd_prefix": "del ",
     "library": "var_list.py",
     "varRefreshCmd": "print(var_dic_list())"
    },
    "r": {
     "delete_cmd_postfix": ") ",
     "delete_cmd_prefix": "rm(",
     "library": "var_list.r",
     "varRefreshCmd": "cat(var_dic_list()) "
    }
   },
   "types_to_exclude": [
    "module",
    "function",
    "builtin_function_or_method",
    "instance",
    "_Feature"
   ],
   "window_display": false
  }
 },
 "nbformat": 4,
 "nbformat_minor": 5
}
