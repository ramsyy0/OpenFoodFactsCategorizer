{
 "cells": [
  {
   "cell_type": "code",
   "execution_count": 1,
   "id": "vietnamese-provider",
   "metadata": {
    "id": "vietnamese-provider"
   },
   "outputs": [],
   "source": [
    "import joblib\n",
    "import pandas as pd\n",
    "import numpy as np\n",
    "import string\n",
    "import unicodedata\n",
    "from sklearn.model_selection import train_test_split\n",
    "from sklearn.feature_extraction.text import CountVectorizer, TfidfVectorizer\n",
    "from sklearn.linear_model import RidgeClassifier\n",
    "from sklearn.metrics import classification_report\n",
    "from sklearn.metrics import accuracy_score, confusion_matrix\n",
    "from sklearn.pipeline import Pipeline\n",
    "from joblib import dump, load\n",
    "import pickle"
   ]
  },
  {
   "cell_type": "code",
   "execution_count": 2,
   "id": "ZqLOd4ZtYVCy",
   "metadata": {
    "colab": {
     "base_uri": "https://localhost:8080/"
    },
    "id": "ZqLOd4ZtYVCy",
    "outputId": "9ab64743-8237-4442-a5b2-f55abe2fb690"
   },
   "outputs": [
    {
     "name": "stdout",
     "output_type": "stream",
     "text": [
      "Mounted at /content/drive\n"
     ]
    }
   ],
   "source": [
    "from google.colab import drive\n",
    "drive.mount('/content/drive', force_remount=True)"
   ]
  },
  {
   "cell_type": "code",
   "execution_count": 3,
   "id": "beautiful-difficulty",
   "metadata": {
    "id": "beautiful-difficulty"
   },
   "outputs": [],
   "source": [
    "file = '/content/drive/MyDrive/OFF_Drive/raw_data/ocr_labeled_spellcheck.csv'\n",
    "data = pd.read_csv(file)\n"
   ]
  },
  {
   "cell_type": "code",
   "execution_count": null,
   "id": "romantic-accreditation",
   "metadata": {
    "id": "romantic-accreditation"
   },
   "outputs": [],
   "source": [
    "#data = pd.read_csv('ocr_labeled_spellcheck.csv')"
   ]
  },
  {
   "cell_type": "code",
   "execution_count": 4,
   "id": "communist-binding",
   "metadata": {
    "id": "communist-binding"
   },
   "outputs": [],
   "source": [
    "data = data.copy()"
   ]
  },
  {
   "cell_type": "code",
   "execution_count": 5,
   "id": "alive-arkansas",
   "metadata": {
    "colab": {
     "base_uri": "https://localhost:8080/"
    },
    "id": "alive-arkansas",
    "outputId": "47efd9df-2d1f-413a-b452-1a8498216209"
   },
   "outputs": [
    {
     "data": {
      "text/plain": [
       "(434896, 6)"
      ]
     },
     "execution_count": 5,
     "metadata": {
      "tags": []
     },
     "output_type": "execute_result"
    }
   ],
   "source": [
    "data.shape"
   ]
  },
  {
   "cell_type": "code",
   "execution_count": 9,
   "id": "L7QaZUj9a74E",
   "metadata": {
    "colab": {
     "base_uri": "https://localhost:8080/",
     "height": 206
    },
    "id": "L7QaZUj9a74E",
    "outputId": "7d0e23dc-b4d7-44fc-cd46-bd4494882f18"
   },
   "outputs": [
    {
     "data": {
      "text/html": [
       "<div>\n",
       "<style scoped>\n",
       "    .dataframe tbody tr th:only-of-type {\n",
       "        vertical-align: middle;\n",
       "    }\n",
       "\n",
       "    .dataframe tbody tr th {\n",
       "        vertical-align: top;\n",
       "    }\n",
       "\n",
       "    .dataframe thead th {\n",
       "        text-align: right;\n",
       "    }\n",
       "</style>\n",
       "<table border=\"1\" class=\"dataframe\">\n",
       "  <thead>\n",
       "    <tr style=\"text-align: right;\">\n",
       "      <th></th>\n",
       "      <th>barcode</th>\n",
       "      <th>clean_text</th>\n",
       "      <th>fr_text</th>\n",
       "      <th>source</th>\n",
       "      <th>pnns_groups_1</th>\n",
       "      <th>pnns_groups_2</th>\n",
       "    </tr>\n",
       "  </thead>\n",
       "  <tbody>\n",
       "    <tr>\n",
       "      <th>0</th>\n",
       "      <td>3199660476748</td>\n",
       "      <td>ne eleve abattu en bretagne les eleveurs de br...</td>\n",
       "      <td>NE\\nELEVE\\nABATTU\\nEN BRETAGNE\\nLES ÉLEVEURS\\n...</td>\n",
       "      <td>/319/966/047/6748/1.json</td>\n",
       "      <td>fish meat eggs</td>\n",
       "      <td>meat</td>\n",
       "    </tr>\n",
       "    <tr>\n",
       "      <th>1</th>\n",
       "      <td>3199660219192</td>\n",
       "      <td>mer chant local decoupes de poulet conditionne...</td>\n",
       "      <td>Ker\\nchant\\n100% LOCAL\\nDecoupes de\\nPOULET\\nC...</td>\n",
       "      <td>/319/966/021/9192/1.json</td>\n",
       "      <td>fish meat eggs</td>\n",
       "      <td>meat</td>\n",
       "    </tr>\n",
       "    <tr>\n",
       "      <th>2</th>\n",
       "      <td>3199660219192</td>\n",
       "      <td>cuis dej plat sat merchant ex origine france v...</td>\n",
       "      <td>1CUIS.DEJ. PLT SAT\\nKERCHANT FX 1\\nORIGINE Fra...</td>\n",
       "      <td>/319/966/021/9192/2.json</td>\n",
       "      <td>fish meat eggs</td>\n",
       "      <td>meat</td>\n",
       "    </tr>\n",
       "    <tr>\n",
       "      <th>3</th>\n",
       "      <td>3199660747848</td>\n",
       "      <td>mer chant local decoupes de poulet cooduogne p...</td>\n",
       "      <td>Ker\\nChant\\n100% LOGAL\\nDécoupes de\\nPOULET\\nC...</td>\n",
       "      <td>/319/966/074/7848/1.json</td>\n",
       "      <td>fish meat eggs</td>\n",
       "      <td>meat</td>\n",
       "    </tr>\n",
       "    <tr>\n",
       "      <th>4</th>\n",
       "      <td>3196203800091</td>\n",
       "      <td>preparation deshydratee aromatisee et coloree ...</td>\n",
       "      <td>PREPARATION DÉSHYDRATÉE, AROMATISÉE ET COLOREE...</td>\n",
       "      <td>/319/620/380/0091/1.json</td>\n",
       "      <td>sugary snacks</td>\n",
       "      <td>sweets</td>\n",
       "    </tr>\n",
       "  </tbody>\n",
       "</table>\n",
       "</div>"
      ],
      "text/plain": [
       "         barcode  ... pnns_groups_2\n",
       "0  3199660476748  ...          meat\n",
       "1  3199660219192  ...          meat\n",
       "2  3199660219192  ...          meat\n",
       "3  3199660747848  ...          meat\n",
       "4  3196203800091  ...        sweets\n",
       "\n",
       "[5 rows x 6 columns]"
      ]
     },
     "execution_count": 9,
     "metadata": {
      "tags": []
     },
     "output_type": "execute_result"
    }
   ],
   "source": [
    "data.head()"
   ]
  },
  {
   "cell_type": "code",
   "execution_count": 8,
   "id": "above-opera",
   "metadata": {
    "colab": {
     "base_uri": "https://localhost:8080/"
    },
    "id": "above-opera",
    "outputId": "9da78e67-132e-4b99-927b-cb8a5ec3ddb6"
   },
   "outputs": [
    {
     "name": "stdout",
     "output_type": "stream",
     "text": [
      "Requirement already satisfied: spacy in /usr/local/lib/python3.7/dist-packages (2.2.4)\n",
      "Requirement already satisfied: thinc==7.4.0 in /usr/local/lib/python3.7/dist-packages (from spacy) (7.4.0)\n",
      "Requirement already satisfied: requests<3.0.0,>=2.13.0 in /usr/local/lib/python3.7/dist-packages (from spacy) (2.23.0)\n",
      "Requirement already satisfied: murmurhash<1.1.0,>=0.28.0 in /usr/local/lib/python3.7/dist-packages (from spacy) (1.0.5)\n",
      "Requirement already satisfied: preshed<3.1.0,>=3.0.2 in /usr/local/lib/python3.7/dist-packages (from spacy) (3.0.5)\n",
      "Requirement already satisfied: setuptools in /usr/local/lib/python3.7/dist-packages (from spacy) (54.0.0)\n",
      "Requirement already satisfied: wasabi<1.1.0,>=0.4.0 in /usr/local/lib/python3.7/dist-packages (from spacy) (0.8.2)\n",
      "Requirement already satisfied: numpy>=1.15.0 in /usr/local/lib/python3.7/dist-packages (from spacy) (1.19.5)\n",
      "Requirement already satisfied: cymem<2.1.0,>=2.0.2 in /usr/local/lib/python3.7/dist-packages (from spacy) (2.0.5)\n",
      "Requirement already satisfied: catalogue<1.1.0,>=0.0.7 in /usr/local/lib/python3.7/dist-packages (from spacy) (1.0.0)\n",
      "Requirement already satisfied: tqdm<5.0.0,>=4.38.0 in /usr/local/lib/python3.7/dist-packages (from spacy) (4.41.1)\n",
      "Requirement already satisfied: srsly<1.1.0,>=1.0.2 in /usr/local/lib/python3.7/dist-packages (from spacy) (1.0.5)\n",
      "Requirement already satisfied: blis<0.5.0,>=0.4.0 in /usr/local/lib/python3.7/dist-packages (from spacy) (0.4.1)\n",
      "Requirement already satisfied: plac<1.2.0,>=0.9.6 in /usr/local/lib/python3.7/dist-packages (from spacy) (1.1.3)\n",
      "Requirement already satisfied: certifi>=2017.4.17 in /usr/local/lib/python3.7/dist-packages (from requests<3.0.0,>=2.13.0->spacy) (2020.12.5)\n",
      "Requirement already satisfied: idna<3,>=2.5 in /usr/local/lib/python3.7/dist-packages (from requests<3.0.0,>=2.13.0->spacy) (2.10)\n",
      "Requirement already satisfied: chardet<4,>=3.0.2 in /usr/local/lib/python3.7/dist-packages (from requests<3.0.0,>=2.13.0->spacy) (3.0.4)\n",
      "Requirement already satisfied: urllib3!=1.25.0,!=1.25.1,<1.26,>=1.21.1 in /usr/local/lib/python3.7/dist-packages (from requests<3.0.0,>=2.13.0->spacy) (1.24.3)\n",
      "Requirement already satisfied: importlib-metadata>=0.20; python_version < \"3.8\" in /usr/local/lib/python3.7/dist-packages (from catalogue<1.1.0,>=0.0.7->spacy) (3.7.0)\n",
      "Requirement already satisfied: zipp>=0.5 in /usr/local/lib/python3.7/dist-packages (from importlib-metadata>=0.20; python_version < \"3.8\"->catalogue<1.1.0,>=0.0.7->spacy) (3.4.1)\n",
      "Requirement already satisfied: typing-extensions>=3.6.4; python_version < \"3.8\" in /usr/local/lib/python3.7/dist-packages (from importlib-metadata>=0.20; python_version < \"3.8\"->catalogue<1.1.0,>=0.0.7->spacy) (3.7.4.3)\n"
     ]
    }
   ],
   "source": [
    "#install Spacy\n",
    "!pip3 install spacy"
   ]
  },
  {
   "cell_type": "code",
   "execution_count": 9,
   "id": "completed-hunger",
   "metadata": {
    "colab": {
     "base_uri": "https://localhost:8080/"
    },
    "id": "completed-hunger",
    "outputId": "56d3affa-e357-470d-fc61-a6644d118d3a"
   },
   "outputs": [
    {
     "name": "stdout",
     "output_type": "stream",
     "text": [
      "Collecting fr_core_news_md==2.2.5\n",
      "\u001b[?25l  Downloading https://github.com/explosion/spacy-models/releases/download/fr_core_news_md-2.2.5/fr_core_news_md-2.2.5.tar.gz (88.6MB)\n",
      "\u001b[K     |████████████████████████████████| 88.6MB 1.6MB/s \n",
      "\u001b[?25hRequirement already satisfied: spacy>=2.2.2 in /usr/local/lib/python3.7/dist-packages (from fr_core_news_md==2.2.5) (2.2.4)\n",
      "Requirement already satisfied: numpy>=1.15.0 in /usr/local/lib/python3.7/dist-packages (from spacy>=2.2.2->fr_core_news_md==2.2.5) (1.19.5)\n",
      "Requirement already satisfied: thinc==7.4.0 in /usr/local/lib/python3.7/dist-packages (from spacy>=2.2.2->fr_core_news_md==2.2.5) (7.4.0)\n",
      "Requirement already satisfied: plac<1.2.0,>=0.9.6 in /usr/local/lib/python3.7/dist-packages (from spacy>=2.2.2->fr_core_news_md==2.2.5) (1.1.3)\n",
      "Requirement already satisfied: setuptools in /usr/local/lib/python3.7/dist-packages (from spacy>=2.2.2->fr_core_news_md==2.2.5) (54.0.0)\n",
      "Requirement already satisfied: tqdm<5.0.0,>=4.38.0 in /usr/local/lib/python3.7/dist-packages (from spacy>=2.2.2->fr_core_news_md==2.2.5) (4.41.1)\n",
      "Requirement already satisfied: cymem<2.1.0,>=2.0.2 in /usr/local/lib/python3.7/dist-packages (from spacy>=2.2.2->fr_core_news_md==2.2.5) (2.0.5)\n",
      "Requirement already satisfied: preshed<3.1.0,>=3.0.2 in /usr/local/lib/python3.7/dist-packages (from spacy>=2.2.2->fr_core_news_md==2.2.5) (3.0.5)\n",
      "Requirement already satisfied: srsly<1.1.0,>=1.0.2 in /usr/local/lib/python3.7/dist-packages (from spacy>=2.2.2->fr_core_news_md==2.2.5) (1.0.5)\n",
      "Requirement already satisfied: catalogue<1.1.0,>=0.0.7 in /usr/local/lib/python3.7/dist-packages (from spacy>=2.2.2->fr_core_news_md==2.2.5) (1.0.0)\n",
      "Requirement already satisfied: requests<3.0.0,>=2.13.0 in /usr/local/lib/python3.7/dist-packages (from spacy>=2.2.2->fr_core_news_md==2.2.5) (2.23.0)\n",
      "Requirement already satisfied: murmurhash<1.1.0,>=0.28.0 in /usr/local/lib/python3.7/dist-packages (from spacy>=2.2.2->fr_core_news_md==2.2.5) (1.0.5)\n",
      "Requirement already satisfied: wasabi<1.1.0,>=0.4.0 in /usr/local/lib/python3.7/dist-packages (from spacy>=2.2.2->fr_core_news_md==2.2.5) (0.8.2)\n",
      "Requirement already satisfied: blis<0.5.0,>=0.4.0 in /usr/local/lib/python3.7/dist-packages (from spacy>=2.2.2->fr_core_news_md==2.2.5) (0.4.1)\n",
      "Requirement already satisfied: importlib-metadata>=0.20; python_version < \"3.8\" in /usr/local/lib/python3.7/dist-packages (from catalogue<1.1.0,>=0.0.7->spacy>=2.2.2->fr_core_news_md==2.2.5) (3.7.0)\n",
      "Requirement already satisfied: urllib3!=1.25.0,!=1.25.1,<1.26,>=1.21.1 in /usr/local/lib/python3.7/dist-packages (from requests<3.0.0,>=2.13.0->spacy>=2.2.2->fr_core_news_md==2.2.5) (1.24.3)\n",
      "Requirement already satisfied: chardet<4,>=3.0.2 in /usr/local/lib/python3.7/dist-packages (from requests<3.0.0,>=2.13.0->spacy>=2.2.2->fr_core_news_md==2.2.5) (3.0.4)\n",
      "Requirement already satisfied: idna<3,>=2.5 in /usr/local/lib/python3.7/dist-packages (from requests<3.0.0,>=2.13.0->spacy>=2.2.2->fr_core_news_md==2.2.5) (2.10)\n",
      "Requirement already satisfied: certifi>=2017.4.17 in /usr/local/lib/python3.7/dist-packages (from requests<3.0.0,>=2.13.0->spacy>=2.2.2->fr_core_news_md==2.2.5) (2020.12.5)\n",
      "Requirement already satisfied: zipp>=0.5 in /usr/local/lib/python3.7/dist-packages (from importlib-metadata>=0.20; python_version < \"3.8\"->catalogue<1.1.0,>=0.0.7->spacy>=2.2.2->fr_core_news_md==2.2.5) (3.4.1)\n",
      "Requirement already satisfied: typing-extensions>=3.6.4; python_version < \"3.8\" in /usr/local/lib/python3.7/dist-packages (from importlib-metadata>=0.20; python_version < \"3.8\"->catalogue<1.1.0,>=0.0.7->spacy>=2.2.2->fr_core_news_md==2.2.5) (3.7.4.3)\n",
      "Building wheels for collected packages: fr-core-news-md\n",
      "  Building wheel for fr-core-news-md (setup.py) ... \u001b[?25l\u001b[?25hdone\n",
      "  Created wheel for fr-core-news-md: filename=fr_core_news_md-2.2.5-cp37-none-any.whl size=90338490 sha256=d559bfcd7675df63492e190f6eabe824f3a13501656368cabdbcf411c462e801\n",
      "  Stored in directory: /tmp/pip-ephem-wheel-cache-bd18lixq/wheels/c6/18/b6/f628642acc7872a53cf81269dd1c394d96da69564ccfac5425\n",
      "Successfully built fr-core-news-md\n",
      "Installing collected packages: fr-core-news-md\n",
      "Successfully installed fr-core-news-md-2.2.5\n",
      "\u001b[38;5;2m✔ Download and installation successful\u001b[0m\n",
      "You can now load the model via spacy.load('fr_core_news_md')\n"
     ]
    }
   ],
   "source": [
    "# French library\n",
    "!python3 -m spacy download fr_core_news_md"
   ]
  },
  {
   "cell_type": "code",
   "execution_count": 6,
   "id": "brilliant-andrews",
   "metadata": {
    "id": "brilliant-andrews"
   },
   "outputs": [],
   "source": [
    "# Sur Google Colab you must restart execution after downloading fr_core_news_md\n",
    "import spacy\n",
    "import fr_core_news_md\n",
    "nlp = spacy.load('fr_core_news_md')\n"
   ]
  },
  {
   "cell_type": "code",
   "execution_count": 15,
   "id": "controlled-attachment",
   "metadata": {
    "id": "controlled-attachment"
   },
   "outputs": [],
   "source": [
    "# Stopwords & Lemmatize\n",
    "def stopwords(text): \n",
    "    doc = nlp(text)  \n",
    "    noStopWords = [t for t in doc if not t.is_stop]\n",
    "    for token in noStopWords:\n",
    "        lema = [token.lemma_ for token in noStopWords]\n",
    "        new_text = ', '.join(lema)\n",
    "        return new_text\n"
   ]
  },
  {
   "cell_type": "code",
   "execution_count": 16,
   "id": "txoUNCbFZHJx",
   "metadata": {
    "colab": {
     "base_uri": "https://localhost:8080/",
     "height": 105
    },
    "id": "txoUNCbFZHJx",
    "outputId": "27aad749-9bc0-4000-ee54-10f716050dbf"
   },
   "outputs": [
    {
     "data": {
      "application/vnd.google.colaboratory.intrinsic+json": {
       "type": "string"
      },
      "text/plain": [
       "'eleve, abattre, bretagne, eleveur, bretagne, decoupe, poulet, noir, fermier, labo, caracteristique, certifiees, fermier, eleve, air, duree, d, elevage, jour, minimum, cereales, alimente, vegetau, mineral, vitamine, do, matin, voir, etiquette, poids, prix, conserver, oc, c, consommer, cuit, coeur, date, limite, co, heu, certifier, immeuble, millepertuis, lande, d, ap, produit, frais, classe, reclamatin, s, adresser, fermier, d, argot, bp, ploufragan, decoupe, conditionn, lac, bretagne, bp, quentin, homologation, n, abattoir, agre, n, fr, être, plat, fer, lr, sat, el, bret, origine, france, yo, volai, prixtrg, poids, net, prix, payer, kilogramme, lot, r, consommer, r, conserver, c, c, expedie, loc, bretagne, lanfains, e, toit, acte, wow, consignesdetrfr'"
      ]
     },
     "execution_count": 16,
     "metadata": {
      "tags": []
     },
     "output_type": "execute_result"
    }
   ],
   "source": [
    "#test the function\n",
    "stopwords(data['clean_text'][0])"
   ]
  },
  {
   "cell_type": "code",
   "execution_count": 17,
   "id": "sharing-implementation",
   "metadata": {
    "id": "sharing-implementation"
   },
   "outputs": [],
   "source": [
    "# Apply the function on the clean_text column \n",
    "data['stop_worded'] = data['clean_text'].apply(stopwords)"
   ]
  },
  {
   "cell_type": "code",
   "execution_count": 23,
   "id": "shared-ready",
   "metadata": {
    "colab": {
     "base_uri": "https://localhost:8080/"
    },
    "id": "shared-ready",
    "outputId": "f10dc706-5cce-4072-a818-5c1093aa26e4"
   },
   "outputs": [
    {
     "data": {
      "text/plain": [
       "(434896, 7)"
      ]
     },
     "execution_count": 23,
     "metadata": {
      "tags": []
     },
     "output_type": "execute_result"
    }
   ],
   "source": [
    "#Have a look \n",
    "data.shape"
   ]
  },
  {
   "cell_type": "code",
   "execution_count": 34,
   "id": "dULRT-qOFI9H",
   "metadata": {
    "id": "dULRT-qOFI9H"
   },
   "outputs": [],
   "source": [
    "#To be sure that the dataset contains only strings after this treatment (if not it will return an error when training the model)\n",
    "data['stop_worded']= data['stop_worded'].apply(lambda x: str(x))\n"
   ]
  },
  {
   "cell_type": "code",
   "execution_count": null,
   "id": "Ohm6TLHdGzJX",
   "metadata": {
    "id": "Ohm6TLHdGzJX"
   },
   "outputs": [],
   "source": [
    "# I save the preprocessed csv for Open Food Facts if thay want to train another model on this dataset. Applying Spacy took me about 3h30. \n",
    "data.to_csv('/content/drive/My Drive/OFF_Drive/raw_data/data_preprocessed.csv', index = False)"
   ]
  },
  {
   "cell_type": "code",
   "execution_count": 18,
   "id": "focused-genealogy",
   "metadata": {
    "id": "focused-genealogy"
   },
   "outputs": [],
   "source": [
    "# Give a number to each catégories (for classification report)\n",
    "category_codes_pnns_2 = {n: i for i, n in enumerate(sorted(data['pnns_groups_2'].unique()))}\n"
   ]
  },
  {
   "cell_type": "code",
   "execution_count": 35,
   "id": "robust-burden",
   "metadata": {
    "id": "robust-burden"
   },
   "outputs": [],
   "source": [
    "# Holdout\n",
    "X = data[['stop_worded']]\n",
    "\n",
    "y = data['pnns_groups_2']\n",
    "\n",
    "X_train, X_test, y_train, y_test = train_test_split(X, y, test_size=0.3, random_state = 1)"
   ]
  },
  {
   "cell_type": "code",
   "execution_count": 36,
   "id": "municipal-identification",
   "metadata": {
    "colab": {
     "base_uri": "https://localhost:8080/"
    },
    "id": "municipal-identification",
    "outputId": "d898dbed-7b13-4576-963a-3ccf8b709ce5",
    "scrolled": true
   },
   "outputs": [
    {
     "name": "stdout",
     "output_type": "stream",
     "text": [
      "Test accuracy is 0.8170446619503483\n",
      "                                  precision    recall  f1-score   support\n",
      "\n",
      "                      appetizers       0.85      0.76      0.80      3575\n",
      "artificially sweetened beverages       0.81      0.57      0.66       615\n",
      "              biscuits and cakes       0.82      0.89      0.86     11401\n",
      "                           bread       0.90      0.79      0.84      3311\n",
      "               breakfast cereals       0.90      0.87      0.88      2149\n",
      "                         cereals       0.82      0.79      0.81      5257\n",
      "                          cheese       0.88      0.85      0.87      5937\n",
      "              chocolate products       0.88      0.88      0.88      2554\n",
      "                  dairy desserts       0.85      0.73      0.79      2943\n",
      "            dressings and sauces       0.85      0.78      0.81      5200\n",
      "                    dried fruits       0.86      0.76      0.81      1451\n",
      "                            eggs       0.95      0.87      0.91       768\n",
      "                            fats       0.90      0.85      0.88      3011\n",
      "                fish and seafood       0.88      0.83      0.85      5596\n",
      "                    fruit juices       0.77      0.83      0.80      2963\n",
      "                   fruit nectars       0.74      0.35      0.48       344\n",
      "                          fruits       0.87      0.81      0.84      3905\n",
      "                       ice cream       0.91      0.84      0.87      1815\n",
      "                         legumes       0.78      0.61      0.68      1171\n",
      "                            meat       0.84      0.72      0.78      2927\n",
      "                 milk and yogurt       0.84      0.86      0.85      5736\n",
      "                            nuts       0.86      0.74      0.79      1439\n",
      "                          offals       0.92      0.71      0.80       500\n",
      "                  one dish meals       0.70      0.86      0.77     15355\n",
      "                        pastries       0.92      0.76      0.83      1623\n",
      "           pizza pies and quiche       0.93      0.72      0.81      1608\n",
      "    plant based milk substitutes       0.90      0.78      0.84       523\n",
      "                        potatoes       0.90      0.65      0.75       916\n",
      "                  processed meat       0.81      0.88      0.84      7043\n",
      "        salty and fatty products       0.85      0.78      0.81      4903\n",
      "                      sandwiches       0.93      0.78      0.85      1382\n",
      "                           soups       0.81      0.73      0.77       893\n",
      "             sweetened beverages       0.74      0.81      0.77      3744\n",
      "                          sweets       0.77      0.87      0.82      9540\n",
      "teas and herbal teas and coffees       0.90      0.53      0.67       130\n",
      "           unsweetened beverages       0.76      0.38      0.51      1225\n",
      "                      vegetables       0.80      0.77      0.78      6123\n",
      "      waters and flavored waters       0.88      0.86      0.87       893\n",
      "\n",
      "                        accuracy                           0.82    130469\n",
      "                       macro avg       0.85      0.76      0.80    130469\n",
      "                    weighted avg       0.82      0.82      0.82    130469\n",
      "\n"
     ]
    }
   ],
   "source": [
    "# Pipeline\n",
    "ridge_pipeline = Pipeline([\n",
    "                ('tfidf', TfidfVectorizer(ngram_range=(2, 2))),\n",
    "                ('Ridge', RidgeClassifier()),\n",
    "            ])\n",
    "  \n",
    "# train the model using X_dtm & y\n",
    "ridge_pipeline.fit(X_train.squeeze(), y_train)\n",
    "# Squeeze is to get the correct shape for X (if none I have a 1 column after my rows)\n",
    "# compute the testing accuracy\n",
    "prediction = ridge_pipeline.predict(X_test.squeeze())\n",
    "print('Test accuracy is {}'.format(accuracy_score(y_test, prediction)))\n",
    "print(classification_report(y_test, prediction, target_names=category_codes_pnns_2))"
   ]
  },
  {
   "cell_type": "code",
   "execution_count": 37,
   "id": "exact-necessity",
   "metadata": {
    "colab": {
     "base_uri": "https://localhost:8080/"
    },
    "id": "exact-necessity",
    "outputId": "a6bb6964-218f-4a07-e725-c305b7377fbd"
   },
   "outputs": [
    {
     "data": {
      "text/plain": [
       "0.8086930525355955"
      ]
     },
     "execution_count": 37,
     "metadata": {
      "tags": []
     },
     "output_type": "execute_result"
    }
   ],
   "source": [
    "from sklearn.model_selection import cross_validate\n",
    "\n",
    "# 5-Fold Cross validate model\n",
    "cv_results = cross_validate(ridge_pipeline, X_train.squeeze(), y_train, cv=5)\n",
    "\n",
    "# Scores\n",
    "cv_results['test_score']\n",
    "\n",
    "# Mean of scores\n",
    "cv_score = cv_results['test_score'].mean()\n",
    "\n",
    "cv_score"
   ]
  },
  {
   "cell_type": "code",
   "execution_count": 38,
   "id": "sfK8Tx_bjFNx",
   "metadata": {
    "colab": {
     "base_uri": "https://localhost:8080/"
    },
    "id": "sfK8Tx_bjFNx",
    "outputId": "6b8864a4-0295-4164-d78a-9ca914cd9917"
   },
   "outputs": [
    {
     "data": {
      "text/plain": [
       "array([0.80938147, 0.80810038, 0.80776874, 0.80931264, 0.80890203])"
      ]
     },
     "execution_count": 38,
     "metadata": {
      "tags": []
     },
     "output_type": "execute_result"
    }
   ],
   "source": [
    "# all the scores\n",
    "cv_results['test_score']\n",
    "\n"
   ]
  },
  {
   "cell_type": "code",
   "execution_count": 39,
   "id": "Pmi4jK7tslso",
   "metadata": {
    "id": "Pmi4jK7tslso"
   },
   "outputs": [],
   "source": [
    "model = ridge_pipeline.fit(X_train.squeeze(), y_train)"
   ]
  },
  {
   "cell_type": "code",
   "execution_count": 40,
   "id": "P1r1hL3Jby6C",
   "metadata": {
    "colab": {
     "base_uri": "https://localhost:8080/"
    },
    "id": "P1r1hL3Jby6C",
    "outputId": "41f1753a-440f-4eb5-9a3c-c9f3f0c8a1c4"
   },
   "outputs": [
    {
     "data": {
      "text/plain": [
       "['/content/drive/My Drive/OFF_Drive/raw_data/models/ridge_model_pnns_2.joblib']"
      ]
     },
     "execution_count": 40,
     "metadata": {
      "tags": []
     },
     "output_type": "execute_result"
    }
   ],
   "source": [
    "# Export model, joblib format\n",
    "joblib.dump(model, '/content/drive/My Drive/OFF_Drive/raw_data/models/ridge_model_pnns_2.joblib') \n",
    "# It's a Google Colab path, to be adapted to your usage"
   ]
  },
  {
   "cell_type": "code",
   "execution_count": null,
   "id": "narrow-imaging",
   "metadata": {},
   "outputs": [],
   "source": [
    "#to load jobil model:\n",
    "#loaded_model = joblib.load('/content/drive/My Drive/OFF_Drive/raw_data/models/ridge_only_pnns_2.joblib')\n",
    "#result = loaded_model.score(X_test.squeeze(), y_test)\n",
    "\n",
    "#To predict:\n",
    "#loaded_model.predict([['stop_worded'][0]])"
   ]
  },
  {
   "cell_type": "code",
   "execution_count": 42,
   "id": "british-grammar",
   "metadata": {
    "id": "british-grammar"
   },
   "outputs": [],
   "source": [
    "# Export model, pikle format\n",
    "pkl_filename = '/content/drive/My Drive/OFF_Drive/raw_data/models/ridge_model_pnns_2.pkl'\n",
    "with open(pkl_filename, 'wb') as file:\n",
    "    pickle.dump(model, file)\n",
    "\n",
    "#to predict:\n",
    "#pickle_model.predict(Xtest)"
   ]
  }
 ],
 "metadata": {
  "colab": {
   "collapsed_sections": [],
   "name": "Train_with_Spacy_stopwords_lemma_preprocess.ipynb",
   "provenance": []
  },
  "kernelspec": {
   "display_name": "Python 3",
   "language": "python",
   "name": "python3"
  },
  "language_info": {
   "codemirror_mode": {
    "name": "ipython",
    "version": 3
   },
   "file_extension": ".py",
   "mimetype": "text/x-python",
   "name": "python",
   "nbconvert_exporter": "python",
   "pygments_lexer": "ipython3",
   "version": "3.8.6"
  },
  "latex_envs": {
   "LaTeX_envs_menu_present": true,
   "autoclose": false,
   "autocomplete": true,
   "bibliofile": "biblio.bib",
   "cite_by": "apalike",
   "current_citInitial": 1,
   "eqLabelWithNumbers": true,
   "eqNumInitial": 1,
   "hotkeys": {
    "equation": "Ctrl-E",
    "itemize": "Ctrl-I"
   },
   "labels_anchors": false,
   "latex_user_defs": false,
   "report_style_numbering": false,
   "user_envs_cfg": false
  },
  "toc": {
   "base_numbering": 1,
   "nav_menu": {},
   "number_sections": true,
   "sideBar": true,
   "skip_h1_title": false,
   "title_cell": "Table of Contents",
   "title_sidebar": "Contents",
   "toc_cell": false,
   "toc_position": {},
   "toc_section_display": true,
   "toc_window_display": false
  },
  "varInspector": {
   "cols": {
    "lenName": 16,
    "lenType": 16,
    "lenVar": 40
   },
   "kernels_config": {
    "python": {
     "delete_cmd_postfix": "",
     "delete_cmd_prefix": "del ",
     "library": "var_list.py",
     "varRefreshCmd": "print(var_dic_list())"
    },
    "r": {
     "delete_cmd_postfix": ") ",
     "delete_cmd_prefix": "rm(",
     "library": "var_list.r",
     "varRefreshCmd": "cat(var_dic_list()) "
    }
   },
   "types_to_exclude": [
    "module",
    "function",
    "builtin_function_or_method",
    "instance",
    "_Feature"
   ],
   "window_display": false
  }
 },
 "nbformat": 4,
 "nbformat_minor": 5
}
