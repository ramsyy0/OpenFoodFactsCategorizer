{
 "cells": [
  {
   "cell_type": "code",
   "execution_count": 10,
   "id": "vietnamese-provider",
   "metadata": {
    "id": "vietnamese-provider"
   },
   "outputs": [],
   "source": [
    "import joblib\n",
    "import pandas as pd\n",
    "import numpy as np\n",
    "import string\n",
    "import unicodedata\n",
    "from sklearn.model_selection import train_test_split\n",
    "import nltk\n",
    "from nltk.corpus import stopwords \n",
    "from nltk import word_tokenize\n",
    "from sklearn.feature_extraction.text import CountVectorizer, TfidfVectorizer\n",
    "from sklearn.linear_model import RidgeClassifier\n",
    "from sklearn.metrics import classification_report\n",
    "from sklearn.metrics import accuracy_score, confusion_matrix\n",
    "from sklearn.pipeline import Pipeline\n",
    "from joblib import dump, load\n",
    "import pickle"
   ]
  },
  {
   "cell_type": "code",
   "execution_count": 2,
   "id": "ZqLOd4ZtYVCy",
   "metadata": {
    "colab": {
     "base_uri": "https://localhost:8080/"
    },
    "id": "ZqLOd4ZtYVCy",
    "outputId": "4bc54703-9b27-4c49-a0a6-ebc0ce976045"
   },
   "outputs": [
    {
     "name": "stdout",
     "output_type": "stream",
     "text": [
      "Mounted at /content/drive\n"
     ]
    }
   ],
   "source": [
    "from google.colab import drive\n",
    "drive.mount('/content/drive', force_remount=True)"
   ]
  },
  {
   "cell_type": "code",
   "execution_count": 3,
   "id": "beautiful-difficulty",
   "metadata": {
    "id": "beautiful-difficulty"
   },
   "outputs": [],
   "source": [
    "# Import CSV with text clean and spellchecked\n",
    "file = '/content/drive/MyDrive/OFF_Drive/raw_data/ocr_labeled_spellcheck.csv'\n",
    "data = pd.read_csv(file)\n"
   ]
  },
  {
   "cell_type": "code",
   "execution_count": 4,
   "id": "communist-binding",
   "metadata": {
    "id": "communist-binding"
   },
   "outputs": [],
   "source": [
    "data = data.copy()"
   ]
  },
  {
   "cell_type": "code",
   "execution_count": 5,
   "id": "alive-arkansas",
   "metadata": {
    "colab": {
     "base_uri": "https://localhost:8080/"
    },
    "id": "alive-arkansas",
    "outputId": "64f617e7-1b09-4748-de82-a8842d1ed1f0"
   },
   "outputs": [
    {
     "data": {
      "text/plain": [
       "(434896, 6)"
      ]
     },
     "execution_count": 5,
     "metadata": {
      "tags": []
     },
     "output_type": "execute_result"
    }
   ],
   "source": [
    "data.shape"
   ]
  },
  {
   "cell_type": "code",
   "execution_count": 6,
   "id": "L7QaZUj9a74E",
   "metadata": {
    "colab": {
     "base_uri": "https://localhost:8080/",
     "height": 206
    },
    "id": "L7QaZUj9a74E",
    "outputId": "a61bf580-fdaa-4155-ccbd-a2d3274cb704"
   },
   "outputs": [
    {
     "data": {
      "text/html": [
       "<div>\n",
       "<style scoped>\n",
       "    .dataframe tbody tr th:only-of-type {\n",
       "        vertical-align: middle;\n",
       "    }\n",
       "\n",
       "    .dataframe tbody tr th {\n",
       "        vertical-align: top;\n",
       "    }\n",
       "\n",
       "    .dataframe thead th {\n",
       "        text-align: right;\n",
       "    }\n",
       "</style>\n",
       "<table border=\"1\" class=\"dataframe\">\n",
       "  <thead>\n",
       "    <tr style=\"text-align: right;\">\n",
       "      <th></th>\n",
       "      <th>barcode</th>\n",
       "      <th>clean_text</th>\n",
       "      <th>fr_text</th>\n",
       "      <th>source</th>\n",
       "      <th>pnns_groups_1</th>\n",
       "      <th>pnns_groups_2</th>\n",
       "    </tr>\n",
       "  </thead>\n",
       "  <tbody>\n",
       "    <tr>\n",
       "      <th>0</th>\n",
       "      <td>3199660476748</td>\n",
       "      <td>ne eleve abattu en bretagne les eleveurs de br...</td>\n",
       "      <td>NE\\nELEVE\\nABATTU\\nEN BRETAGNE\\nLES ÉLEVEURS\\n...</td>\n",
       "      <td>/319/966/047/6748/1.json</td>\n",
       "      <td>fish meat eggs</td>\n",
       "      <td>meat</td>\n",
       "    </tr>\n",
       "    <tr>\n",
       "      <th>1</th>\n",
       "      <td>3199660219192</td>\n",
       "      <td>mer chant local decoupes de poulet conditionne...</td>\n",
       "      <td>Ker\\nchant\\n100% LOCAL\\nDecoupes de\\nPOULET\\nC...</td>\n",
       "      <td>/319/966/021/9192/1.json</td>\n",
       "      <td>fish meat eggs</td>\n",
       "      <td>meat</td>\n",
       "    </tr>\n",
       "    <tr>\n",
       "      <th>2</th>\n",
       "      <td>3199660219192</td>\n",
       "      <td>cuis dej plat sat merchant ex origine france v...</td>\n",
       "      <td>1CUIS.DEJ. PLT SAT\\nKERCHANT FX 1\\nORIGINE Fra...</td>\n",
       "      <td>/319/966/021/9192/2.json</td>\n",
       "      <td>fish meat eggs</td>\n",
       "      <td>meat</td>\n",
       "    </tr>\n",
       "    <tr>\n",
       "      <th>3</th>\n",
       "      <td>3199660747848</td>\n",
       "      <td>mer chant local decoupes de poulet cooduogne p...</td>\n",
       "      <td>Ker\\nChant\\n100% LOGAL\\nDécoupes de\\nPOULET\\nC...</td>\n",
       "      <td>/319/966/074/7848/1.json</td>\n",
       "      <td>fish meat eggs</td>\n",
       "      <td>meat</td>\n",
       "    </tr>\n",
       "    <tr>\n",
       "      <th>4</th>\n",
       "      <td>3196203800091</td>\n",
       "      <td>preparation deshydratee aromatisee et coloree ...</td>\n",
       "      <td>PREPARATION DÉSHYDRATÉE, AROMATISÉE ET COLOREE...</td>\n",
       "      <td>/319/620/380/0091/1.json</td>\n",
       "      <td>sugary snacks</td>\n",
       "      <td>sweets</td>\n",
       "    </tr>\n",
       "  </tbody>\n",
       "</table>\n",
       "</div>"
      ],
      "text/plain": [
       "         barcode  ... pnns_groups_2\n",
       "0  3199660476748  ...          meat\n",
       "1  3199660219192  ...          meat\n",
       "2  3199660219192  ...          meat\n",
       "3  3199660747848  ...          meat\n",
       "4  3196203800091  ...        sweets\n",
       "\n",
       "[5 rows x 6 columns]"
      ]
     },
     "execution_count": 6,
     "metadata": {
      "tags": []
     },
     "output_type": "execute_result"
    }
   ],
   "source": [
    "data.head()"
   ]
  },
  {
   "cell_type": "code",
   "execution_count": 7,
   "id": "focused-genealogy",
   "metadata": {
    "id": "focused-genealogy"
   },
   "outputs": [],
   "source": [
    "# Give a number to each catégories (for classification report)\n",
    "category_codes_pnns_2 = {n: i for i, n in enumerate(sorted(data['pnns_groups_2'].unique()))}\n"
   ]
  },
  {
   "cell_type": "code",
   "execution_count": 8,
   "id": "robust-burden",
   "metadata": {
    "id": "robust-burden"
   },
   "outputs": [],
   "source": [
    "# Holdout\n",
    "X = data[['clean_text']]\n",
    "\n",
    "y = data['pnns_groups_2']\n",
    "\n",
    "X_train, X_test, y_train, y_test = train_test_split(X, y, test_size=0.3, random_state = 1)"
   ]
  },
  {
   "cell_type": "code",
   "execution_count": 11,
   "id": "municipal-identification",
   "metadata": {
    "colab": {
     "base_uri": "https://localhost:8080/"
    },
    "id": "municipal-identification",
    "outputId": "0da402c6-9e56-4d0d-8589-44184d59a899",
    "scrolled": true
   },
   "outputs": [
    {
     "name": "stdout",
     "output_type": "stream",
     "text": [
      "[nltk_data] Downloading package stopwords to /root/nltk_data...\n",
      "[nltk_data]   Unzipping corpora/stopwords.zip.\n",
      "Test accuracy is 0.8454805356061593\n",
      "                                  precision    recall  f1-score   support\n",
      "\n",
      "                      appetizers       0.88      0.80      0.84      3575\n",
      "artificially sweetened beverages       0.80      0.59      0.68       615\n",
      "              biscuits and cakes       0.86      0.91      0.89     11401\n",
      "                           bread       0.91      0.83      0.87      3311\n",
      "               breakfast cereals       0.90      0.90      0.90      2149\n",
      "                         cereals       0.84      0.82      0.83      5257\n",
      "                          cheese       0.89      0.89      0.89      5937\n",
      "              chocolate products       0.90      0.90      0.90      2554\n",
      "                  dairy desserts       0.87      0.77      0.82      2943\n",
      "            dressings and sauces       0.87      0.83      0.85      5200\n",
      "                    dried fruits       0.87      0.79      0.83      1451\n",
      "                            eggs       0.97      0.92      0.94       768\n",
      "                            fats       0.92      0.88      0.90      3011\n",
      "                fish and seafood       0.89      0.86      0.87      5596\n",
      "                    fruit juices       0.79      0.87      0.82      2963\n",
      "                   fruit nectars       0.77      0.35      0.48       344\n",
      "                          fruits       0.89      0.84      0.86      3905\n",
      "                       ice cream       0.91      0.87      0.89      1815\n",
      "                         legumes       0.79      0.65      0.71      1171\n",
      "                            meat       0.85      0.75      0.80      2927\n",
      "                 milk and yogurt       0.86      0.89      0.88      5736\n",
      "                            nuts       0.85      0.78      0.82      1439\n",
      "                          offals       0.94      0.79      0.86       500\n",
      "                  one dish meals       0.74      0.87      0.80     15355\n",
      "                        pastries       0.92      0.81      0.87      1623\n",
      "           pizza pies and quiche       0.94      0.77      0.85      1608\n",
      "    plant based milk substitutes       0.92      0.80      0.86       523\n",
      "                        potatoes       0.92      0.72      0.81       916\n",
      "                  processed meat       0.83      0.90      0.86      7043\n",
      "        salty and fatty products       0.88      0.82      0.84      4903\n",
      "                      sandwiches       0.93      0.81      0.87      1382\n",
      "                           soups       0.81      0.76      0.79       893\n",
      "             sweetened beverages       0.75      0.85      0.80      3744\n",
      "                          sweets       0.86      0.89      0.87      9540\n",
      "teas and herbal teas and coffees       0.94      0.52      0.67       130\n",
      "           unsweetened beverages       0.82      0.39      0.53      1225\n",
      "                      vegetables       0.82      0.79      0.81      6123\n",
      "      waters and flavored waters       0.89      0.92      0.90       893\n",
      "\n",
      "                        accuracy                           0.85    130469\n",
      "                       macro avg       0.87      0.79      0.82    130469\n",
      "                    weighted avg       0.85      0.85      0.84    130469\n",
      "\n"
     ]
    }
   ],
   "source": [
    "# Pipeline with stop words in tdidf with french nltk\n",
    "nltk.download('stopwords')\n",
    "stop_words = set(stopwords.words('french'))\n",
    "ridge_pipeline = Pipeline([\n",
    "                ('tfidf', TfidfVectorizer(stop_words=stop_words, ngram_range=(1, 2))),\n",
    "                ('Ridge', RidgeClassifier()),\n",
    "            ])\n",
    "  \n",
    "# train the model using X_dtm & y\n",
    "ridge_pipeline.fit(X_train.squeeze(), y_train)\n",
    "# Squeeze is to get the correct shape for X (if none I have a 1 column after my rows)\n",
    "# compute the testing accuracy\n",
    "prediction = ridge_pipeline.predict(X_test.squeeze())\n",
    "print('Test accuracy is {}'.format(accuracy_score(y_test, prediction)))\n",
    "print(classification_report(y_test, prediction, target_names=category_codes_pnns_2))"
   ]
  },
  {
   "cell_type": "code",
   "execution_count": 12,
   "id": "exact-necessity",
   "metadata": {
    "colab": {
     "base_uri": "https://localhost:8080/"
    },
    "id": "exact-necessity",
    "outputId": "a13c17bc-bccf-40c3-fbcc-594f37d76653"
   },
   "outputs": [
    {
     "data": {
      "text/plain": [
       "0.8380137086094722"
      ]
     },
     "execution_count": 12,
     "metadata": {
      "tags": []
     },
     "output_type": "execute_result"
    }
   ],
   "source": [
    "# Cross validation\n",
    "from sklearn.model_selection import cross_validate\n",
    "\n",
    "# 5-Fold Cross validate model\n",
    "cv_results = cross_validate(ridge_pipeline, X_train.squeeze(), y_train, cv=5)\n",
    "\n",
    "# Scores\n",
    "cv_results['test_score']\n",
    "\n",
    "# Mean of scores\n",
    "cv_score = cv_results['test_score'].mean()\n",
    "\n",
    "cv_score"
   ]
  },
  {
   "cell_type": "code",
   "execution_count": 13,
   "id": "sfK8Tx_bjFNx",
   "metadata": {
    "colab": {
     "base_uri": "https://localhost:8080/"
    },
    "id": "sfK8Tx_bjFNx",
    "outputId": "29ae5ea5-7195-4a91-e02c-66341a3a7bf1"
   },
   "outputs": [
    {
     "data": {
      "text/plain": [
       "array([0.83726965, 0.83948691, 0.83889299, 0.83784183, 0.83657715])"
      ]
     },
     "execution_count": 13,
     "metadata": {
      "tags": []
     },
     "output_type": "execute_result"
    }
   ],
   "source": [
    "# all the scores\n",
    "cv_results['test_score']\n",
    "\n"
   ]
  },
  {
   "cell_type": "code",
   "execution_count": 14,
   "id": "Pmi4jK7tslso",
   "metadata": {
    "id": "Pmi4jK7tslso"
   },
   "outputs": [],
   "source": [
    "model = ridge_pipeline.fit(X_train.squeeze(), y_train)"
   ]
  },
  {
   "cell_type": "code",
   "execution_count": 15,
   "id": "P1r1hL3Jby6C",
   "metadata": {
    "colab": {
     "base_uri": "https://localhost:8080/"
    },
    "id": "P1r1hL3Jby6C",
    "outputId": "5a027183-fc65-48c8-dd6f-0a363b567f4b"
   },
   "outputs": [
    {
     "data": {
      "text/plain": [
       "['/content/drive/My Drive/OFF_Drive/raw_data/models/best_ridge_model_pnns_2_on_spellcheck.joblib']"
      ]
     },
     "execution_count": 15,
     "metadata": {
      "tags": []
     },
     "output_type": "execute_result"
    }
   ],
   "source": [
    "#Export model, joblib format\n",
    "joblib.dump(model, '/content/drive/My Drive/OFF_Drive/raw_data/models/best_ridge_model_pnns_2_on_spellcheck.joblib') "
   ]
  },
  {
   "cell_type": "code",
   "execution_count": null,
   "id": "BzkbWmfRpIwi",
   "metadata": {
    "id": "BzkbWmfRpIwi"
   },
   "outputs": [],
   "source": [
    "#to load jobil model\n",
    "#loaded_model = joblib.load('/content/drive/My Drive/OFF_Drive/raw_data/models/ridge_only_pnns_2.joblib')\n",
    "#result = loaded_model.score(X_test.squeeze(), y_test)\n",
    "#loaded_model.predict([['clean_text'][0]])"
   ]
  },
  {
   "cell_type": "code",
   "execution_count": 16,
   "id": "british-grammar",
   "metadata": {
    "id": "british-grammar"
   },
   "outputs": [],
   "source": [
    "\n",
    "# #Export model, pikle format\n",
    "pkl_filename = '/content/drive/My Drive/OFF_Drive/raw_data/models/best_ridge_model_pnns_2_on_spellcheck.pkl'\n",
    "with open(pkl_filename, 'wb') as file:\n",
    "    pickle.dump(model, file)\n",
    "\n",
    "# Load from file\n",
    "#with open(pkl_filename, 'rb') as file:\n",
    "    #pickle_model = pickle.load(file)\n",
    "    \n",
    "\n",
    "#Ypredict = pickle_model.predict(Xtest)"
   ]
  }
 ],
 "metadata": {
  "colab": {
   "collapsed_sections": [],
   "name": "Train_spell_without_prepross_but_ridge_stop.ipynb",
   "provenance": []
  },
  "kernelspec": {
   "display_name": "Python 3",
   "language": "python",
   "name": "python3"
  },
  "language_info": {
   "codemirror_mode": {
    "name": "ipython",
    "version": 3
   },
   "file_extension": ".py",
   "mimetype": "text/x-python",
   "name": "python",
   "nbconvert_exporter": "python",
   "pygments_lexer": "ipython3",
   "version": "3.8.6"
  },
  "latex_envs": {
   "LaTeX_envs_menu_present": true,
   "autoclose": false,
   "autocomplete": true,
   "bibliofile": "biblio.bib",
   "cite_by": "apalike",
   "current_citInitial": 1,
   "eqLabelWithNumbers": true,
   "eqNumInitial": 1,
   "hotkeys": {
    "equation": "Ctrl-E",
    "itemize": "Ctrl-I"
   },
   "labels_anchors": false,
   "latex_user_defs": false,
   "report_style_numbering": false,
   "user_envs_cfg": false
  },
  "toc": {
   "base_numbering": 1,
   "nav_menu": {},
   "number_sections": true,
   "sideBar": true,
   "skip_h1_title": false,
   "title_cell": "Table of Contents",
   "title_sidebar": "Contents",
   "toc_cell": false,
   "toc_position": {},
   "toc_section_display": true,
   "toc_window_display": false
  },
  "varInspector": {
   "cols": {
    "lenName": 16,
    "lenType": 16,
    "lenVar": 40
   },
   "kernels_config": {
    "python": {
     "delete_cmd_postfix": "",
     "delete_cmd_prefix": "del ",
     "library": "var_list.py",
     "varRefreshCmd": "print(var_dic_list())"
    },
    "r": {
     "delete_cmd_postfix": ") ",
     "delete_cmd_prefix": "rm(",
     "library": "var_list.r",
     "varRefreshCmd": "cat(var_dic_list()) "
    }
   },
   "types_to_exclude": [
    "module",
    "function",
    "builtin_function_or_method",
    "instance",
    "_Feature"
   ],
   "window_display": false
  }
 },
 "nbformat": 4,
 "nbformat_minor": 5
}
